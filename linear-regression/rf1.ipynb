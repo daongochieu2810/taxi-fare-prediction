{
 "cells": [
  {
   "cell_type": "code",
   "execution_count": 119,
   "id": "b0181d95",
   "metadata": {},
   "outputs": [],
   "source": [
    "import findspark\n",
    "findspark.init(\"D:\\spark-3.2.1-bin-hadoop3.2\")\n",
    "import pyspark\n",
    "from pyspark.sql import SparkSession\n",
    "from pyspark.ml.regression import RandomForestRegressor"
   ]
  },
  {
   "cell_type": "code",
   "execution_count": 120,
   "id": "63f6f5de",
   "metadata": {},
   "outputs": [
    {
     "ename": "ConnectionRefusedError",
     "evalue": "[WinError 10061] No connection could be made because the target machine actively refused it",
     "output_type": "error",
     "traceback": [
      "\u001b[1;31m---------------------------------------------------------------------------\u001b[0m",
      "\u001b[1;31mConnectionRefusedError\u001b[0m                    Traceback (most recent call last)",
      "\u001b[1;32md:\\DIR1\\Projects\\taxi-fare-prediction\\linear-regression\\rf1.ipynb Cell 2'\u001b[0m in \u001b[0;36m<cell line: 1>\u001b[1;34m()\u001b[0m\n\u001b[1;32m----> <a href='vscode-notebook-cell:/d%3A/DIR1/Projects/taxi-fare-prediction/linear-regression/rf1.ipynb#ch0000001?line=0'>1</a>\u001b[0m spark \u001b[39m=\u001b[39m SparkSession\u001b[39m.\u001b[39;49mbuilder\u001b[39m.\u001b[39;49mappName(\u001b[39m\"\u001b[39;49m\u001b[39mrf_exmaple\u001b[39;49m\u001b[39m\"\u001b[39;49m)\u001b[39m.\u001b[39;49mgetOrCreate()\n",
      "File \u001b[1;32mD:\\spark-3.2.1-bin-hadoop3.2\\python\\pyspark\\sql\\session.py:233\u001b[0m, in \u001b[0;36mSparkSession.Builder.getOrCreate\u001b[1;34m(self)\u001b[0m\n\u001b[0;32m    <a href='file:///d%3A/spark-3.2.1-bin-hadoop3.2/python/pyspark/sql/session.py?line=230'>231</a>\u001b[0m     session \u001b[39m=\u001b[39m SparkSession(sc)\n\u001b[0;32m    <a href='file:///d%3A/spark-3.2.1-bin-hadoop3.2/python/pyspark/sql/session.py?line=231'>232</a>\u001b[0m \u001b[39mfor\u001b[39;00m key, value \u001b[39min\u001b[39;00m \u001b[39mself\u001b[39m\u001b[39m.\u001b[39m_options\u001b[39m.\u001b[39mitems():\n\u001b[1;32m--> <a href='file:///d%3A/spark-3.2.1-bin-hadoop3.2/python/pyspark/sql/session.py?line=232'>233</a>\u001b[0m     session\u001b[39m.\u001b[39;49m_jsparkSession\u001b[39m.\u001b[39;49msessionState()\u001b[39m.\u001b[39mconf()\u001b[39m.\u001b[39msetConfString(key, value)\n\u001b[0;32m    <a href='file:///d%3A/spark-3.2.1-bin-hadoop3.2/python/pyspark/sql/session.py?line=233'>234</a>\u001b[0m \u001b[39mreturn\u001b[39;00m session\n",
      "File \u001b[1;32mD:\\spark-3.2.1-bin-hadoop3.2\\python\\lib\\py4j-0.10.9.3-src.zip\\py4j\\java_gateway.py:1320\u001b[0m, in \u001b[0;36mJavaMember.__call__\u001b[1;34m(self, *args)\u001b[0m\n\u001b[0;32m   <a href='file:///d%3A/spark-3.2.1-bin-hadoop3.2/python/lib/py4j-0.10.9.3-src.zip/py4j/java_gateway.py?line=1312'>1313</a>\u001b[0m args_command, temp_args \u001b[39m=\u001b[39m \u001b[39mself\u001b[39m\u001b[39m.\u001b[39m_build_args(\u001b[39m*\u001b[39margs)\n\u001b[0;32m   <a href='file:///d%3A/spark-3.2.1-bin-hadoop3.2/python/lib/py4j-0.10.9.3-src.zip/py4j/java_gateway.py?line=1314'>1315</a>\u001b[0m command \u001b[39m=\u001b[39m proto\u001b[39m.\u001b[39mCALL_COMMAND_NAME \u001b[39m+\u001b[39m\\\n\u001b[0;32m   <a href='file:///d%3A/spark-3.2.1-bin-hadoop3.2/python/lib/py4j-0.10.9.3-src.zip/py4j/java_gateway.py?line=1315'>1316</a>\u001b[0m     \u001b[39mself\u001b[39m\u001b[39m.\u001b[39mcommand_header \u001b[39m+\u001b[39m\\\n\u001b[0;32m   <a href='file:///d%3A/spark-3.2.1-bin-hadoop3.2/python/lib/py4j-0.10.9.3-src.zip/py4j/java_gateway.py?line=1316'>1317</a>\u001b[0m     args_command \u001b[39m+\u001b[39m\\\n\u001b[0;32m   <a href='file:///d%3A/spark-3.2.1-bin-hadoop3.2/python/lib/py4j-0.10.9.3-src.zip/py4j/java_gateway.py?line=1317'>1318</a>\u001b[0m     proto\u001b[39m.\u001b[39mEND_COMMAND_PART\n\u001b[1;32m-> <a href='file:///d%3A/spark-3.2.1-bin-hadoop3.2/python/lib/py4j-0.10.9.3-src.zip/py4j/java_gateway.py?line=1319'>1320</a>\u001b[0m answer \u001b[39m=\u001b[39m \u001b[39mself\u001b[39;49m\u001b[39m.\u001b[39;49mgateway_client\u001b[39m.\u001b[39;49msend_command(command)\n\u001b[0;32m   <a href='file:///d%3A/spark-3.2.1-bin-hadoop3.2/python/lib/py4j-0.10.9.3-src.zip/py4j/java_gateway.py?line=1320'>1321</a>\u001b[0m return_value \u001b[39m=\u001b[39m get_return_value(\n\u001b[0;32m   <a href='file:///d%3A/spark-3.2.1-bin-hadoop3.2/python/lib/py4j-0.10.9.3-src.zip/py4j/java_gateway.py?line=1321'>1322</a>\u001b[0m     answer, \u001b[39mself\u001b[39m\u001b[39m.\u001b[39mgateway_client, \u001b[39mself\u001b[39m\u001b[39m.\u001b[39mtarget_id, \u001b[39mself\u001b[39m\u001b[39m.\u001b[39mname)\n\u001b[0;32m   <a href='file:///d%3A/spark-3.2.1-bin-hadoop3.2/python/lib/py4j-0.10.9.3-src.zip/py4j/java_gateway.py?line=1323'>1324</a>\u001b[0m \u001b[39mfor\u001b[39;00m temp_arg \u001b[39min\u001b[39;00m temp_args:\n",
      "File \u001b[1;32mD:\\spark-3.2.1-bin-hadoop3.2\\python\\lib\\py4j-0.10.9.3-src.zip\\py4j\\java_gateway.py:1036\u001b[0m, in \u001b[0;36mGatewayClient.send_command\u001b[1;34m(self, command, retry, binary)\u001b[0m\n\u001b[0;32m   <a href='file:///d%3A/spark-3.2.1-bin-hadoop3.2/python/lib/py4j-0.10.9.3-src.zip/py4j/java_gateway.py?line=1014'>1015</a>\u001b[0m \u001b[39mdef\u001b[39;00m \u001b[39msend_command\u001b[39m(\u001b[39mself\u001b[39m, command, retry\u001b[39m=\u001b[39m\u001b[39mTrue\u001b[39;00m, binary\u001b[39m=\u001b[39m\u001b[39mFalse\u001b[39;00m):\n\u001b[0;32m   <a href='file:///d%3A/spark-3.2.1-bin-hadoop3.2/python/lib/py4j-0.10.9.3-src.zip/py4j/java_gateway.py?line=1015'>1016</a>\u001b[0m     \u001b[39m\"\"\"Sends a command to the JVM. This method is not intended to be\u001b[39;00m\n\u001b[0;32m   <a href='file:///d%3A/spark-3.2.1-bin-hadoop3.2/python/lib/py4j-0.10.9.3-src.zip/py4j/java_gateway.py?line=1016'>1017</a>\u001b[0m \u001b[39m       called directly by Py4J users. It is usually called by\u001b[39;00m\n\u001b[0;32m   <a href='file:///d%3A/spark-3.2.1-bin-hadoop3.2/python/lib/py4j-0.10.9.3-src.zip/py4j/java_gateway.py?line=1017'>1018</a>\u001b[0m \u001b[39m       :class:`JavaMember` instances.\u001b[39;00m\n\u001b[1;32m   (...)\u001b[0m\n\u001b[0;32m   <a href='file:///d%3A/spark-3.2.1-bin-hadoop3.2/python/lib/py4j-0.10.9.3-src.zip/py4j/java_gateway.py?line=1033'>1034</a>\u001b[0m \u001b[39m     if `binary` is `True`.\u001b[39;00m\n\u001b[0;32m   <a href='file:///d%3A/spark-3.2.1-bin-hadoop3.2/python/lib/py4j-0.10.9.3-src.zip/py4j/java_gateway.py?line=1034'>1035</a>\u001b[0m \u001b[39m    \"\"\"\u001b[39;00m\n\u001b[1;32m-> <a href='file:///d%3A/spark-3.2.1-bin-hadoop3.2/python/lib/py4j-0.10.9.3-src.zip/py4j/java_gateway.py?line=1035'>1036</a>\u001b[0m     connection \u001b[39m=\u001b[39m \u001b[39mself\u001b[39;49m\u001b[39m.\u001b[39;49m_get_connection()\n\u001b[0;32m   <a href='file:///d%3A/spark-3.2.1-bin-hadoop3.2/python/lib/py4j-0.10.9.3-src.zip/py4j/java_gateway.py?line=1036'>1037</a>\u001b[0m     \u001b[39mtry\u001b[39;00m:\n\u001b[0;32m   <a href='file:///d%3A/spark-3.2.1-bin-hadoop3.2/python/lib/py4j-0.10.9.3-src.zip/py4j/java_gateway.py?line=1037'>1038</a>\u001b[0m         response \u001b[39m=\u001b[39m connection\u001b[39m.\u001b[39msend_command(command)\n",
      "File \u001b[1;32mD:\\spark-3.2.1-bin-hadoop3.2\\python\\lib\\py4j-0.10.9.3-src.zip\\py4j\\clientserver.py:281\u001b[0m, in \u001b[0;36mJavaClient._get_connection\u001b[1;34m(self)\u001b[0m\n\u001b[0;32m    <a href='file:///d%3A/spark-3.2.1-bin-hadoop3.2/python/lib/py4j-0.10.9.3-src.zip/py4j/clientserver.py?line=277'>278</a>\u001b[0m     \u001b[39mpass\u001b[39;00m\n\u001b[0;32m    <a href='file:///d%3A/spark-3.2.1-bin-hadoop3.2/python/lib/py4j-0.10.9.3-src.zip/py4j/clientserver.py?line=279'>280</a>\u001b[0m \u001b[39mif\u001b[39;00m connection \u001b[39mis\u001b[39;00m \u001b[39mNone\u001b[39;00m \u001b[39mor\u001b[39;00m connection\u001b[39m.\u001b[39msocket \u001b[39mis\u001b[39;00m \u001b[39mNone\u001b[39;00m:\n\u001b[1;32m--> <a href='file:///d%3A/spark-3.2.1-bin-hadoop3.2/python/lib/py4j-0.10.9.3-src.zip/py4j/clientserver.py?line=280'>281</a>\u001b[0m     connection \u001b[39m=\u001b[39m \u001b[39mself\u001b[39;49m\u001b[39m.\u001b[39;49m_create_new_connection()\n\u001b[0;32m    <a href='file:///d%3A/spark-3.2.1-bin-hadoop3.2/python/lib/py4j-0.10.9.3-src.zip/py4j/clientserver.py?line=281'>282</a>\u001b[0m \u001b[39mreturn\u001b[39;00m connection\n",
      "File \u001b[1;32mD:\\spark-3.2.1-bin-hadoop3.2\\python\\lib\\py4j-0.10.9.3-src.zip\\py4j\\clientserver.py:288\u001b[0m, in \u001b[0;36mJavaClient._create_new_connection\u001b[1;34m(self)\u001b[0m\n\u001b[0;32m    <a href='file:///d%3A/spark-3.2.1-bin-hadoop3.2/python/lib/py4j-0.10.9.3-src.zip/py4j/clientserver.py?line=283'>284</a>\u001b[0m \u001b[39mdef\u001b[39;00m \u001b[39m_create_new_connection\u001b[39m(\u001b[39mself\u001b[39m):\n\u001b[0;32m    <a href='file:///d%3A/spark-3.2.1-bin-hadoop3.2/python/lib/py4j-0.10.9.3-src.zip/py4j/clientserver.py?line=284'>285</a>\u001b[0m     connection \u001b[39m=\u001b[39m ClientServerConnection(\n\u001b[0;32m    <a href='file:///d%3A/spark-3.2.1-bin-hadoop3.2/python/lib/py4j-0.10.9.3-src.zip/py4j/clientserver.py?line=285'>286</a>\u001b[0m         \u001b[39mself\u001b[39m\u001b[39m.\u001b[39mjava_parameters, \u001b[39mself\u001b[39m\u001b[39m.\u001b[39mpython_parameters,\n\u001b[0;32m    <a href='file:///d%3A/spark-3.2.1-bin-hadoop3.2/python/lib/py4j-0.10.9.3-src.zip/py4j/clientserver.py?line=286'>287</a>\u001b[0m         \u001b[39mself\u001b[39m\u001b[39m.\u001b[39mgateway_property, \u001b[39mself\u001b[39m)\n\u001b[1;32m--> <a href='file:///d%3A/spark-3.2.1-bin-hadoop3.2/python/lib/py4j-0.10.9.3-src.zip/py4j/clientserver.py?line=287'>288</a>\u001b[0m     connection\u001b[39m.\u001b[39;49mconnect_to_java_server()\n\u001b[0;32m    <a href='file:///d%3A/spark-3.2.1-bin-hadoop3.2/python/lib/py4j-0.10.9.3-src.zip/py4j/clientserver.py?line=288'>289</a>\u001b[0m     \u001b[39mself\u001b[39m\u001b[39m.\u001b[39mset_thread_connection(connection)\n\u001b[0;32m    <a href='file:///d%3A/spark-3.2.1-bin-hadoop3.2/python/lib/py4j-0.10.9.3-src.zip/py4j/clientserver.py?line=289'>290</a>\u001b[0m     \u001b[39mreturn\u001b[39;00m connection\n",
      "File \u001b[1;32mD:\\spark-3.2.1-bin-hadoop3.2\\python\\lib\\py4j-0.10.9.3-src.zip\\py4j\\clientserver.py:402\u001b[0m, in \u001b[0;36mClientServerConnection.connect_to_java_server\u001b[1;34m(self)\u001b[0m\n\u001b[0;32m    <a href='file:///d%3A/spark-3.2.1-bin-hadoop3.2/python/lib/py4j-0.10.9.3-src.zip/py4j/clientserver.py?line=398'>399</a>\u001b[0m \u001b[39mif\u001b[39;00m \u001b[39mself\u001b[39m\u001b[39m.\u001b[39mssl_context:\n\u001b[0;32m    <a href='file:///d%3A/spark-3.2.1-bin-hadoop3.2/python/lib/py4j-0.10.9.3-src.zip/py4j/clientserver.py?line=399'>400</a>\u001b[0m     \u001b[39mself\u001b[39m\u001b[39m.\u001b[39msocket \u001b[39m=\u001b[39m \u001b[39mself\u001b[39m\u001b[39m.\u001b[39mssl_context\u001b[39m.\u001b[39mwrap_socket(\n\u001b[0;32m    <a href='file:///d%3A/spark-3.2.1-bin-hadoop3.2/python/lib/py4j-0.10.9.3-src.zip/py4j/clientserver.py?line=400'>401</a>\u001b[0m         \u001b[39mself\u001b[39m\u001b[39m.\u001b[39msocket, server_hostname\u001b[39m=\u001b[39m\u001b[39mself\u001b[39m\u001b[39m.\u001b[39mjava_address)\n\u001b[1;32m--> <a href='file:///d%3A/spark-3.2.1-bin-hadoop3.2/python/lib/py4j-0.10.9.3-src.zip/py4j/clientserver.py?line=401'>402</a>\u001b[0m \u001b[39mself\u001b[39;49m\u001b[39m.\u001b[39;49msocket\u001b[39m.\u001b[39;49mconnect((\u001b[39mself\u001b[39;49m\u001b[39m.\u001b[39;49mjava_address, \u001b[39mself\u001b[39;49m\u001b[39m.\u001b[39;49mjava_port))\n\u001b[0;32m    <a href='file:///d%3A/spark-3.2.1-bin-hadoop3.2/python/lib/py4j-0.10.9.3-src.zip/py4j/clientserver.py?line=402'>403</a>\u001b[0m \u001b[39mself\u001b[39m\u001b[39m.\u001b[39mstream \u001b[39m=\u001b[39m \u001b[39mself\u001b[39m\u001b[39m.\u001b[39msocket\u001b[39m.\u001b[39mmakefile(\u001b[39m\"\u001b[39m\u001b[39mrb\u001b[39m\u001b[39m\"\u001b[39m)\n\u001b[0;32m    <a href='file:///d%3A/spark-3.2.1-bin-hadoop3.2/python/lib/py4j-0.10.9.3-src.zip/py4j/clientserver.py?line=403'>404</a>\u001b[0m \u001b[39mself\u001b[39m\u001b[39m.\u001b[39mis_connected \u001b[39m=\u001b[39m \u001b[39mTrue\u001b[39;00m\n",
      "\u001b[1;31mConnectionRefusedError\u001b[0m: [WinError 10061] No connection could be made because the target machine actively refused it"
     ]
    }
   ],
   "source": [
    "spark = SparkSession.builder.appName(\"rf_exmaple\").getOrCreate()"
   ]
  },
  {
   "cell_type": "code",
   "execution_count": null,
   "id": "a32948f7",
   "metadata": {},
   "outputs": [],
   "source": [
    "data = spark.read.csv(\"data/dummy_data.csv\", inferSchema=True, header=True)"
   ]
  },
  {
   "cell_type": "code",
   "execution_count": null,
   "id": "3ae10f49",
   "metadata": {},
   "outputs": [
    {
     "name": "stdout",
     "output_type": "stream",
     "text": [
      "root\n",
      " |-- VendorID: integer (nullable = true)\n",
      " |-- lpep_pickup_datetime: string (nullable = true)\n",
      " |-- lpep_dropoff_datetime: string (nullable = true)\n",
      " |-- store_and_fwd_flag: string (nullable = true)\n",
      " |-- RatecodeID: integer (nullable = true)\n",
      " |-- PULocationID: integer (nullable = true)\n",
      " |-- DOLocationID: integer (nullable = true)\n",
      " |-- passenger_count: integer (nullable = true)\n",
      " |-- trip_distance: double (nullable = true)\n",
      " |-- fare_amount: double (nullable = true)\n",
      " |-- extra: double (nullable = true)\n",
      " |-- mta_tax: double (nullable = true)\n",
      " |-- tip_amount: double (nullable = true)\n",
      " |-- tolls_amount: double (nullable = true)\n",
      " |-- ehail_fee: string (nullable = true)\n",
      " |-- improvement_surcharge: double (nullable = true)\n",
      " |-- total_amount: double (nullable = true)\n",
      " |-- payment_type: integer (nullable = true)\n",
      " |-- trip_type: integer (nullable = true)\n",
      " |-- congestion_surcharge: double (nullable = true)\n",
      "\n"
     ]
    }
   ],
   "source": [
    "data.printSchema()"
   ]
  },
  {
   "cell_type": "code",
   "execution_count": null,
   "id": "199557f8",
   "metadata": {},
   "outputs": [],
   "source": [
    "from pyspark.ml.linalg import Vectors\n",
    "from pyspark.ml.feature import VectorAssembler"
   ]
  },
  {
   "cell_type": "code",
   "execution_count": null,
   "id": "7ffba697",
   "metadata": {},
   "outputs": [
    {
     "data": {
      "text/plain": [
       "['VendorID',\n",
       " 'lpep_pickup_datetime',\n",
       " 'lpep_dropoff_datetime',\n",
       " 'store_and_fwd_flag',\n",
       " 'RatecodeID',\n",
       " 'PULocationID',\n",
       " 'DOLocationID',\n",
       " 'passenger_count',\n",
       " 'trip_distance',\n",
       " 'fare_amount',\n",
       " 'extra',\n",
       " 'mta_tax',\n",
       " 'tip_amount',\n",
       " 'tolls_amount',\n",
       " 'ehail_fee',\n",
       " 'improvement_surcharge',\n",
       " 'total_amount',\n",
       " 'payment_type',\n",
       " 'trip_type',\n",
       " 'congestion_surcharge']"
      ]
     },
     "execution_count": 52,
     "metadata": {},
     "output_type": "execute_result"
    }
   ],
   "source": [
    "data.columns"
   ]
  },
  {
   "cell_type": "code",
   "execution_count": null,
   "id": "a7ed17b6",
   "metadata": {},
   "outputs": [],
   "source": [
    "import pyspark.sql.functions as F\n",
    "import random\n",
    "# data_modified = data.select(\"*\", (F.col(\"fare_amount\") - F.col(\"total_amount\")).alias(\"weather\"))\n",
    "# data_modified.columns\n",
    "data_modified = data.withColumn(\"weather\", F.round(F.rand() * 10))"
   ]
  },
  {
   "cell_type": "code",
   "execution_count": null,
   "id": "b6262c7a",
   "metadata": {},
   "outputs": [
    {
     "name": "stdout",
     "output_type": "stream",
     "text": [
      "+--------+--------------------+---------------------+------------------+----------+------------+------------+---------------+-------------+-----------+-----+-------+----------+------------+---------+---------------------+------------+------------+---------+--------------------+-------+-------------+\n",
      "|VendorID|lpep_pickup_datetime|lpep_dropoff_datetime|store_and_fwd_flag|RatecodeID|PULocationID|DOLocationID|passenger_count|trip_distance|fare_amount|extra|mta_tax|tip_amount|tolls_amount|ehail_fee|improvement_surcharge|total_amount|payment_type|trip_type|congestion_surcharge|weather|trip_duration|\n",
      "+--------+--------------------+---------------------+------------------+----------+------------+------------+---------------+-------------+-----------+-----+-------+----------+------------+---------+---------------------+------------+------------+---------+--------------------+-------+-------------+\n",
      "|       2| 2019-12-18 15:52:30|  2019-12-18 15:54:39|                 N|         1|         264|         264|              5|          0.0|        3.5|  0.5|    0.5|      0.01|         0.0|     null|                  0.3|        4.81|           1|        1|                 0.0|    8.0|        129.0|\n",
      "|       2| 2020-01-01 00:45:58|  2020-01-01 00:56:39|                 N|         5|          66|          65|              2|         1.28|       20.0|  0.0|    0.0|      4.06|         0.0|     null|                  0.3|       24.36|           1|        2|                 0.0|    5.0|        641.0|\n",
      "|       2| 2020-01-01 00:41:38|  2020-01-01 00:52:49|                 N|         1|         181|         228|              1|         2.47|       10.5|  0.5|    0.5|      3.54|         0.0|     null|                  0.3|       15.34|           1|        1|                 0.0|    7.0|        671.0|\n",
      "+--------+--------------------+---------------------+------------------+----------+------------+------------+---------------+-------------+-----------+-----+-------+----------+------------+---------+---------------------+------------+------------+---------+--------------------+-------+-------------+\n",
      "only showing top 3 rows\n",
      "\n"
     ]
    }
   ],
   "source": [
    "from datetime import datetime\n",
    "from pyspark.sql.types import DoubleType\n",
    "def getTripDuration(datetime_start, datetime_end):\n",
    "    try:\n",
    "        result = (datetime.strptime(datetime_end, \"%Y-%m-%d %H:%M:%S\") - datetime.strptime(datetime_start, \"%Y-%m-%d %H:%M:%S\")).total_seconds()\n",
    "        return result\n",
    "    except Exception:\n",
    "        return 0\n",
    "\n",
    "tripDurationFunction = F.udf(getTripDuration, DoubleType())\n",
    "# datetime_object = datetime.strptime(\"2019-12-18 15:52:30\", \"%Y-%m-%d %H:%M:%S\")\n",
    "# datetime_object2 = datetime.strptime(\"2019-12-18 15:54:39\", \"%Y-%m-%d %H:%M:%S\")\n",
    "# print(f\"This is datetime: {(datetime_object2 - datetime_object).total_seconds()}\")\n",
    "data_modified = data_modified.withColumn(\"trip_duration\", tripDurationFunction(\"lpep_pickup_datetime\", \"lpep_dropoff_datetime\"))\n",
    "data_modified.show(3)"
   ]
  },
  {
   "cell_type": "code",
   "execution_count": null,
   "id": "c816abee",
   "metadata": {},
   "outputs": [
    {
     "data": {
      "text/plain": [
       "['VendorID',\n",
       " 'lpep_pickup_datetime',\n",
       " 'lpep_dropoff_datetime',\n",
       " 'store_and_fwd_flag',\n",
       " 'RatecodeID',\n",
       " 'PULocationID',\n",
       " 'DOLocationID',\n",
       " 'passenger_count',\n",
       " 'trip_distance',\n",
       " 'fare_amount',\n",
       " 'extra',\n",
       " 'mta_tax',\n",
       " 'tip_amount',\n",
       " 'tolls_amount',\n",
       " 'ehail_fee',\n",
       " 'improvement_surcharge',\n",
       " 'total_amount',\n",
       " 'payment_type',\n",
       " 'trip_type',\n",
       " 'congestion_surcharge',\n",
       " 'weather',\n",
       " 'trip_duration']"
      ]
     },
     "execution_count": 55,
     "metadata": {},
     "output_type": "execute_result"
    }
   ],
   "source": [
    "data_modified.columns"
   ]
  },
  {
   "cell_type": "code",
   "execution_count": null,
   "id": "21c6e168",
   "metadata": {},
   "outputs": [],
   "source": [
    "assembler = VectorAssembler(inputCols=['PULocationID','DOLocationID','passenger_count','trip_distance','fare_amount','extra','mta_tax','tip_amount','tolls_amount','improvement_surcharge', 'total_amount','payment_type','trip_type','congestion_surcharge','weather','trip_duration'], outputCol=\"features\")\n"
   ]
  },
  {
   "cell_type": "code",
   "execution_count": null,
   "id": "08643041",
   "metadata": {},
   "outputs": [
    {
     "data": {
      "text/plain": [
       "[Row(VendorID=2, lpep_pickup_datetime='2019-12-18 15:52:30', lpep_dropoff_datetime='2019-12-18 15:54:39', store_and_fwd_flag='N', RatecodeID=1, PULocationID=264, DOLocationID=264, passenger_count=5, trip_distance=0.0, fare_amount=3.5, extra=0.5, mta_tax=0.5, tip_amount=0.01, tolls_amount=0.0, ehail_fee=None, improvement_surcharge=0.3, total_amount=4.81, payment_type=1, trip_type=1, congestion_surcharge=0.0, weather=8.0, trip_duration=129.0, features=DenseVector([264.0, 264.0, 5.0, 0.0, 3.5, 0.5, 0.5, 0.01, 0.0, 0.3, 4.81, 1.0, 1.0, 0.0, 8.0, 129.0]))]"
      ]
     },
     "execution_count": 57,
     "metadata": {},
     "output_type": "execute_result"
    }
   ],
   "source": [
    "output = assembler.transform(data_modified)\n",
    "output.head(1)"
   ]
  },
  {
   "cell_type": "code",
   "execution_count": null,
   "id": "d34c5f5a",
   "metadata": {},
   "outputs": [],
   "source": [
    "final_data = output.select(\"features\", \"total_amount\")"
   ]
  },
  {
   "cell_type": "code",
   "execution_count": null,
   "id": "cbcc3d46",
   "metadata": {},
   "outputs": [
    {
     "name": "stdout",
     "output_type": "stream",
     "text": [
      "+--------------------+------------+\n",
      "|            features|total_amount|\n",
      "+--------------------+------------+\n",
      "|[264.0,264.0,5.0,...|        4.81|\n",
      "|[66.0,65.0,2.0,1....|       24.36|\n",
      "|[181.0,228.0,1.0,...|       15.34|\n",
      "|[129.0,263.0,2.0,...|       25.05|\n",
      "|[210.0,150.0,1.0,...|        11.3|\n",
      "|[35.0,39.0,1.0,3....|        14.8|\n",
      "|[25.0,61.0,1.0,2....|        12.3|\n",
      "|[225.0,89.0,1.0,4...|        21.8|\n",
      "|[129.0,129.0,1.0,...|         6.8|\n",
      "|[129.0,83.0,1.0,0...|         6.8|\n",
      "|[82.0,173.0,1.0,1...|        10.8|\n",
      "|[74.0,69.0,1.0,3....|        15.3|\n",
      "|[74.0,41.0,1.0,1....|         7.8|\n",
      "|[41.0,127.0,1.0,5...|        20.3|\n",
      "|[7.0,260.0,1.0,1....|        10.8|\n",
      "|[7.0,7.0,1.0,1.42...|         8.3|\n",
      "|[7.0,133.0,1.0,15...|       53.16|\n",
      "|[134.0,28.0,1.0,1...|         7.8|\n",
      "|[89.0,39.0,1.0,2....|        11.3|\n",
      "|[66.0,65.0,3.0,1....|         7.8|\n",
      "+--------------------+------------+\n",
      "only showing top 20 rows\n",
      "\n"
     ]
    }
   ],
   "source": [
    "final_data.show()"
   ]
  },
  {
   "cell_type": "code",
   "execution_count": null,
   "id": "901b3db5",
   "metadata": {},
   "outputs": [],
   "source": [
    "train_data, test_data = final_data.randomSplit([0.7,0.3])"
   ]
  },
  {
   "cell_type": "code",
   "execution_count": null,
   "id": "fd8c05f4",
   "metadata": {},
   "outputs": [
    {
     "name": "stdout",
     "output_type": "stream",
     "text": [
      "+-------+------------------+\n",
      "|summary|      total_amount|\n",
      "+-------+------------------+\n",
      "|  count|                62|\n",
      "|   mean|16.879193548387082|\n",
      "| stddev|13.226922903793934|\n",
      "|    min|               4.8|\n",
      "|    max|              78.1|\n",
      "+-------+------------------+\n",
      "\n"
     ]
    }
   ],
   "source": [
    "train_data.describe().show()"
   ]
  },
  {
   "cell_type": "code",
   "execution_count": null,
   "id": "291a4323",
   "metadata": {},
   "outputs": [
    {
     "name": "stdout",
     "output_type": "stream",
     "text": [
      "+-------+-----------------+\n",
      "|summary|     total_amount|\n",
      "+-------+-----------------+\n",
      "|  count|               36|\n",
      "|   mean|14.97444444444445|\n",
      "| stddev|9.848242031505476|\n",
      "|    min|              4.8|\n",
      "|    max|            46.05|\n",
      "+-------+-----------------+\n",
      "\n"
     ]
    }
   ],
   "source": [
    "test_data.describe().show()"
   ]
  },
  {
   "cell_type": "code",
   "execution_count": null,
   "id": "ad20f71b",
   "metadata": {},
   "outputs": [],
   "source": [
    "rf = RandomForestRegressor(featuresCol=\"features\", labelCol=\"total_amount\")\n",
    "rf_model = rf.fit(train_data)\n"
   ]
  },
  {
   "cell_type": "code",
   "execution_count": null,
   "id": "d1172a18-907b-4a46-b7fa-151c4186fc12",
   "metadata": {},
   "outputs": [],
   "source": [
    "from pyspark.ml.regression import RandomForestRegressor\n",
    "from pyspark.ml.tuning import ParamGridBuilder, CrossValidator\n",
    "from pyspark.ml.evaluation import RegressionEvaluator\n",
    "\n",
    "rfparamGrid = (ParamGridBuilder()\n",
    "             .addGrid(rf.maxDepth, [2, 5, 10, 20, 30])\n",
    "             #  .addGrid(rf.maxDepth, [2, 5, 10])\n",
    "             .addGrid(rf.maxBins, [10, 20, 40, 80, 100])\n",
    "             #  .addGrid(rf.maxBins, [5, 10, 20])\n",
    "             .addGrid(rf.numTrees, [5, 20, 50, 100, 500])\n",
    "             #  .addGrid(rf.numTrees, [5, 20, 50])\n",
    "             .build())"
   ]
  },
  {
   "cell_type": "code",
   "execution_count": null,
   "id": "e6260184-dc59-4381-bae4-de16df1fa433",
   "metadata": {},
   "outputs": [],
   "source": [
    "rfevaluator = RegressionEvaluator(predictionCol=\"prediction\", labelCol=\"total_amount\", metricName=\"rmse\")"
   ]
  },
  {
   "cell_type": "code",
   "execution_count": null,
   "id": "493957e7-fa98-4293-8b21-4cd50cd6b35b",
   "metadata": {},
   "outputs": [],
   "source": [
    "# Create 5-fold CrossValidator\n",
    "rfcv = CrossValidator(estimator = rf,\n",
    "                      estimatorParamMaps = rfparamGrid,\n",
    "                      evaluator = rfevaluator,\n",
    "                      numFolds = 5,\n",
    "                      collectSubModels=True)"
   ]
  },
  {
   "cell_type": "code",
   "execution_count": null,
   "id": "792f709f-fcda-4bdd-9284-35c3aa9eb279",
   "metadata": {},
   "outputs": [
    {
     "ename": "ConnectionRefusedError",
     "evalue": "[WinError 10061] No connection could be made because the target machine actively refused it",
     "output_type": "error",
     "traceback": [
      "\u001b[1;31m---------------------------------------------------------------------------\u001b[0m",
      "\u001b[1;31mConnectionResetError\u001b[0m                      Traceback (most recent call last)",
      "File \u001b[1;32mD:\\spark-3.2.1-bin-hadoop3.2\\python\\lib\\py4j-0.10.9.3-src.zip\\py4j\\clientserver.py:467\u001b[0m, in \u001b[0;36mClientServerConnection.send_command\u001b[1;34m(self, command)\u001b[0m\n\u001b[0;32m    <a href='file:///d%3A/spark-3.2.1-bin-hadoop3.2/python/lib/py4j-0.10.9.3-src.zip/py4j/clientserver.py?line=465'>466</a>\u001b[0m \u001b[39mtry\u001b[39;00m:\n\u001b[1;32m--> <a href='file:///d%3A/spark-3.2.1-bin-hadoop3.2/python/lib/py4j-0.10.9.3-src.zip/py4j/clientserver.py?line=466'>467</a>\u001b[0m     \u001b[39mself\u001b[39;49m\u001b[39m.\u001b[39;49msocket\u001b[39m.\u001b[39;49msendall(command\u001b[39m.\u001b[39;49mencode(\u001b[39m\"\u001b[39;49m\u001b[39mutf-8\u001b[39;49m\u001b[39m\"\u001b[39;49m))\n\u001b[0;32m    <a href='file:///d%3A/spark-3.2.1-bin-hadoop3.2/python/lib/py4j-0.10.9.3-src.zip/py4j/clientserver.py?line=467'>468</a>\u001b[0m \u001b[39mexcept\u001b[39;00m \u001b[39mException\u001b[39;00m \u001b[39mas\u001b[39;00m e:\n",
      "\u001b[1;31mConnectionResetError\u001b[0m: [WinError 10054] An existing connection was forcibly closed by the remote host",
      "\nDuring handling of the above exception, another exception occurred:\n",
      "\u001b[1;31mPy4JNetworkError\u001b[0m                          Traceback (most recent call last)",
      "File \u001b[1;32mD:\\spark-3.2.1-bin-hadoop3.2\\python\\lib\\py4j-0.10.9.3-src.zip\\py4j\\java_gateway.py:1038\u001b[0m, in \u001b[0;36mGatewayClient.send_command\u001b[1;34m(self, command, retry, binary)\u001b[0m\n\u001b[0;32m   <a href='file:///d%3A/spark-3.2.1-bin-hadoop3.2/python/lib/py4j-0.10.9.3-src.zip/py4j/java_gateway.py?line=1036'>1037</a>\u001b[0m \u001b[39mtry\u001b[39;00m:\n\u001b[1;32m-> <a href='file:///d%3A/spark-3.2.1-bin-hadoop3.2/python/lib/py4j-0.10.9.3-src.zip/py4j/java_gateway.py?line=1037'>1038</a>\u001b[0m     response \u001b[39m=\u001b[39m connection\u001b[39m.\u001b[39;49msend_command(command)\n\u001b[0;32m   <a href='file:///d%3A/spark-3.2.1-bin-hadoop3.2/python/lib/py4j-0.10.9.3-src.zip/py4j/java_gateway.py?line=1038'>1039</a>\u001b[0m     \u001b[39mif\u001b[39;00m binary:\n",
      "File \u001b[1;32mD:\\spark-3.2.1-bin-hadoop3.2\\python\\lib\\py4j-0.10.9.3-src.zip\\py4j\\clientserver.py:470\u001b[0m, in \u001b[0;36mClientServerConnection.send_command\u001b[1;34m(self, command)\u001b[0m\n\u001b[0;32m    <a href='file:///d%3A/spark-3.2.1-bin-hadoop3.2/python/lib/py4j-0.10.9.3-src.zip/py4j/clientserver.py?line=468'>469</a>\u001b[0m     logger\u001b[39m.\u001b[39minfo(\u001b[39m\"\u001b[39m\u001b[39mError while sending or receiving.\u001b[39m\u001b[39m\"\u001b[39m, exc_info\u001b[39m=\u001b[39m\u001b[39mTrue\u001b[39;00m)\n\u001b[1;32m--> <a href='file:///d%3A/spark-3.2.1-bin-hadoop3.2/python/lib/py4j-0.10.9.3-src.zip/py4j/clientserver.py?line=469'>470</a>\u001b[0m     \u001b[39mraise\u001b[39;00m Py4JNetworkError(\n\u001b[0;32m    <a href='file:///d%3A/spark-3.2.1-bin-hadoop3.2/python/lib/py4j-0.10.9.3-src.zip/py4j/clientserver.py?line=470'>471</a>\u001b[0m         \u001b[39m\"\u001b[39m\u001b[39mError while sending\u001b[39m\u001b[39m\"\u001b[39m, e, proto\u001b[39m.\u001b[39mERROR_ON_SEND)\n\u001b[0;32m    <a href='file:///d%3A/spark-3.2.1-bin-hadoop3.2/python/lib/py4j-0.10.9.3-src.zip/py4j/clientserver.py?line=472'>473</a>\u001b[0m \u001b[39mtry\u001b[39;00m:\n",
      "\u001b[1;31mPy4JNetworkError\u001b[0m: Error while sending",
      "\nDuring handling of the above exception, another exception occurred:\n",
      "\u001b[1;31mConnectionRefusedError\u001b[0m                    Traceback (most recent call last)",
      "\u001b[1;32md:\\DIR1\\Projects\\taxi-fare-prediction\\linear-regression\\rf1.ipynb Cell 21'\u001b[0m in \u001b[0;36m<cell line: 1>\u001b[1;34m()\u001b[0m\n\u001b[1;32m----> <a href='vscode-notebook-cell:/d%3A/DIR1/Projects/taxi-fare-prediction/linear-regression/rf1.ipynb#ch0000020?line=0'>1</a>\u001b[0m rfcvModel \u001b[39m=\u001b[39m rfcv\u001b[39m.\u001b[39;49mfit(train_data)\n\u001b[0;32m      <a href='vscode-notebook-cell:/d%3A/DIR1/Projects/taxi-fare-prediction/linear-regression/rf1.ipynb#ch0000020?line=1'>2</a>\u001b[0m \u001b[39mprint\u001b[39m(rfcvModel)\n\u001b[0;32m      <a href='vscode-notebook-cell:/d%3A/DIR1/Projects/taxi-fare-prediction/linear-regression/rf1.ipynb#ch0000020?line=2'>3</a>\u001b[0m rfpredictions \u001b[39m=\u001b[39m rfcvModel\u001b[39m.\u001b[39mtransform(test_data)\n",
      "File \u001b[1;32mD:\\spark-3.2.1-bin-hadoop3.2\\python\\pyspark\\ml\\base.py:161\u001b[0m, in \u001b[0;36mEstimator.fit\u001b[1;34m(self, dataset, params)\u001b[0m\n\u001b[0;32m    <a href='file:///d%3A/spark-3.2.1-bin-hadoop3.2/python/pyspark/ml/base.py?line=158'>159</a>\u001b[0m         \u001b[39mreturn\u001b[39;00m \u001b[39mself\u001b[39m\u001b[39m.\u001b[39mcopy(params)\u001b[39m.\u001b[39m_fit(dataset)\n\u001b[0;32m    <a href='file:///d%3A/spark-3.2.1-bin-hadoop3.2/python/pyspark/ml/base.py?line=159'>160</a>\u001b[0m     \u001b[39melse\u001b[39;00m:\n\u001b[1;32m--> <a href='file:///d%3A/spark-3.2.1-bin-hadoop3.2/python/pyspark/ml/base.py?line=160'>161</a>\u001b[0m         \u001b[39mreturn\u001b[39;00m \u001b[39mself\u001b[39;49m\u001b[39m.\u001b[39;49m_fit(dataset)\n\u001b[0;32m    <a href='file:///d%3A/spark-3.2.1-bin-hadoop3.2/python/pyspark/ml/base.py?line=161'>162</a>\u001b[0m \u001b[39melse\u001b[39;00m:\n\u001b[0;32m    <a href='file:///d%3A/spark-3.2.1-bin-hadoop3.2/python/pyspark/ml/base.py?line=162'>163</a>\u001b[0m     \u001b[39mraise\u001b[39;00m \u001b[39mTypeError\u001b[39;00m(\u001b[39m\"\u001b[39m\u001b[39mParams must be either a param map or a list/tuple of param maps, \u001b[39m\u001b[39m\"\u001b[39m\n\u001b[0;32m    <a href='file:///d%3A/spark-3.2.1-bin-hadoop3.2/python/pyspark/ml/base.py?line=163'>164</a>\u001b[0m                     \u001b[39m\"\u001b[39m\u001b[39mbut got \u001b[39m\u001b[39m%s\u001b[39;00m\u001b[39m.\u001b[39m\u001b[39m\"\u001b[39m \u001b[39m%\u001b[39m \u001b[39mtype\u001b[39m(params))\n",
      "File \u001b[1;32mD:\\spark-3.2.1-bin-hadoop3.2\\python\\pyspark\\ml\\tuning.py:681\u001b[0m, in \u001b[0;36mCrossValidator._fit\u001b[1;34m(self, dataset)\u001b[0m\n\u001b[0;32m    <a href='file:///d%3A/spark-3.2.1-bin-hadoop3.2/python/pyspark/ml/tuning.py?line=677'>678</a>\u001b[0m \u001b[39mif\u001b[39;00m collectSubModelsParam:\n\u001b[0;32m    <a href='file:///d%3A/spark-3.2.1-bin-hadoop3.2/python/pyspark/ml/tuning.py?line=678'>679</a>\u001b[0m     subModels \u001b[39m=\u001b[39m [[\u001b[39mNone\u001b[39;00m \u001b[39mfor\u001b[39;00m j \u001b[39min\u001b[39;00m \u001b[39mrange\u001b[39m(numModels)] \u001b[39mfor\u001b[39;00m i \u001b[39min\u001b[39;00m \u001b[39mrange\u001b[39m(nFolds)]\n\u001b[1;32m--> <a href='file:///d%3A/spark-3.2.1-bin-hadoop3.2/python/pyspark/ml/tuning.py?line=680'>681</a>\u001b[0m datasets \u001b[39m=\u001b[39m \u001b[39mself\u001b[39;49m\u001b[39m.\u001b[39;49m_kFold(dataset)\n\u001b[0;32m    <a href='file:///d%3A/spark-3.2.1-bin-hadoop3.2/python/pyspark/ml/tuning.py?line=681'>682</a>\u001b[0m \u001b[39mfor\u001b[39;00m i \u001b[39min\u001b[39;00m \u001b[39mrange\u001b[39m(nFolds):\n\u001b[0;32m    <a href='file:///d%3A/spark-3.2.1-bin-hadoop3.2/python/pyspark/ml/tuning.py?line=682'>683</a>\u001b[0m     validation \u001b[39m=\u001b[39m datasets[i][\u001b[39m1\u001b[39m]\u001b[39m.\u001b[39mcache()\n",
      "File \u001b[1;32mD:\\spark-3.2.1-bin-hadoop3.2\\python\\pyspark\\ml\\tuning.py:714\u001b[0m, in \u001b[0;36mCrossValidator._kFold\u001b[1;34m(self, dataset)\u001b[0m\n\u001b[0;32m    <a href='file:///d%3A/spark-3.2.1-bin-hadoop3.2/python/pyspark/ml/tuning.py?line=711'>712</a>\u001b[0m h \u001b[39m=\u001b[39m \u001b[39m1.0\u001b[39m \u001b[39m/\u001b[39m nFolds\n\u001b[0;32m    <a href='file:///d%3A/spark-3.2.1-bin-hadoop3.2/python/pyspark/ml/tuning.py?line=712'>713</a>\u001b[0m randCol \u001b[39m=\u001b[39m \u001b[39mself\u001b[39m\u001b[39m.\u001b[39muid \u001b[39m+\u001b[39m \u001b[39m\"\u001b[39m\u001b[39m_rand\u001b[39m\u001b[39m\"\u001b[39m\n\u001b[1;32m--> <a href='file:///d%3A/spark-3.2.1-bin-hadoop3.2/python/pyspark/ml/tuning.py?line=713'>714</a>\u001b[0m df \u001b[39m=\u001b[39m dataset\u001b[39m.\u001b[39mselect(\u001b[39m\"\u001b[39m\u001b[39m*\u001b[39m\u001b[39m\"\u001b[39m, rand(seed)\u001b[39m.\u001b[39malias(randCol))\n\u001b[0;32m    <a href='file:///d%3A/spark-3.2.1-bin-hadoop3.2/python/pyspark/ml/tuning.py?line=714'>715</a>\u001b[0m \u001b[39mfor\u001b[39;00m i \u001b[39min\u001b[39;00m \u001b[39mrange\u001b[39m(nFolds):\n\u001b[0;32m    <a href='file:///d%3A/spark-3.2.1-bin-hadoop3.2/python/pyspark/ml/tuning.py?line=715'>716</a>\u001b[0m     validateLB \u001b[39m=\u001b[39m i \u001b[39m*\u001b[39m h\n",
      "File \u001b[1;32mD:\\spark-3.2.1-bin-hadoop3.2\\python\\pyspark\\sql\\functions.py:1257\u001b[0m, in \u001b[0;36mrand\u001b[1;34m(seed)\u001b[0m\n\u001b[0;32m   <a href='file:///d%3A/spark-3.2.1-bin-hadoop3.2/python/pyspark/sql/functions.py?line=1254'>1255</a>\u001b[0m sc \u001b[39m=\u001b[39m SparkContext\u001b[39m.\u001b[39m_active_spark_context\n\u001b[0;32m   <a href='file:///d%3A/spark-3.2.1-bin-hadoop3.2/python/pyspark/sql/functions.py?line=1255'>1256</a>\u001b[0m \u001b[39mif\u001b[39;00m seed \u001b[39mis\u001b[39;00m \u001b[39mnot\u001b[39;00m \u001b[39mNone\u001b[39;00m:\n\u001b[1;32m-> <a href='file:///d%3A/spark-3.2.1-bin-hadoop3.2/python/pyspark/sql/functions.py?line=1256'>1257</a>\u001b[0m     jc \u001b[39m=\u001b[39m sc\u001b[39m.\u001b[39;49m_jvm\u001b[39m.\u001b[39;49mfunctions\u001b[39m.\u001b[39mrand(seed)\n\u001b[0;32m   <a href='file:///d%3A/spark-3.2.1-bin-hadoop3.2/python/pyspark/sql/functions.py?line=1257'>1258</a>\u001b[0m \u001b[39melse\u001b[39;00m:\n\u001b[0;32m   <a href='file:///d%3A/spark-3.2.1-bin-hadoop3.2/python/pyspark/sql/functions.py?line=1258'>1259</a>\u001b[0m     jc \u001b[39m=\u001b[39m sc\u001b[39m.\u001b[39m_jvm\u001b[39m.\u001b[39mfunctions\u001b[39m.\u001b[39mrand()\n",
      "File \u001b[1;32mD:\\spark-3.2.1-bin-hadoop3.2\\python\\lib\\py4j-0.10.9.3-src.zip\\py4j\\java_gateway.py:1709\u001b[0m, in \u001b[0;36mJVMView.__getattr__\u001b[1;34m(self, name)\u001b[0m\n\u001b[0;32m   <a href='file:///d%3A/spark-3.2.1-bin-hadoop3.2/python/lib/py4j-0.10.9.3-src.zip/py4j/java_gateway.py?line=1705'>1706</a>\u001b[0m \u001b[39mif\u001b[39;00m name \u001b[39m==\u001b[39m UserHelpAutoCompletion\u001b[39m.\u001b[39mKEY:\n\u001b[0;32m   <a href='file:///d%3A/spark-3.2.1-bin-hadoop3.2/python/lib/py4j-0.10.9.3-src.zip/py4j/java_gateway.py?line=1706'>1707</a>\u001b[0m     \u001b[39mreturn\u001b[39;00m UserHelpAutoCompletion()\n\u001b[1;32m-> <a href='file:///d%3A/spark-3.2.1-bin-hadoop3.2/python/lib/py4j-0.10.9.3-src.zip/py4j/java_gateway.py?line=1708'>1709</a>\u001b[0m answer \u001b[39m=\u001b[39m \u001b[39mself\u001b[39;49m\u001b[39m.\u001b[39;49m_gateway_client\u001b[39m.\u001b[39;49msend_command(\n\u001b[0;32m   <a href='file:///d%3A/spark-3.2.1-bin-hadoop3.2/python/lib/py4j-0.10.9.3-src.zip/py4j/java_gateway.py?line=1709'>1710</a>\u001b[0m     proto\u001b[39m.\u001b[39;49mREFLECTION_COMMAND_NAME \u001b[39m+\u001b[39;49m\n\u001b[0;32m   <a href='file:///d%3A/spark-3.2.1-bin-hadoop3.2/python/lib/py4j-0.10.9.3-src.zip/py4j/java_gateway.py?line=1710'>1711</a>\u001b[0m     proto\u001b[39m.\u001b[39;49mREFL_GET_UNKNOWN_SUB_COMMAND_NAME \u001b[39m+\u001b[39;49m name \u001b[39m+\u001b[39;49m \u001b[39m\"\u001b[39;49m\u001b[39m\\n\u001b[39;49;00m\u001b[39m\"\u001b[39;49m \u001b[39m+\u001b[39;49m \u001b[39mself\u001b[39;49m\u001b[39m.\u001b[39;49m_id \u001b[39m+\u001b[39;49m\n\u001b[0;32m   <a href='file:///d%3A/spark-3.2.1-bin-hadoop3.2/python/lib/py4j-0.10.9.3-src.zip/py4j/java_gateway.py?line=1711'>1712</a>\u001b[0m     \u001b[39m\"\u001b[39;49m\u001b[39m\\n\u001b[39;49;00m\u001b[39m\"\u001b[39;49m \u001b[39m+\u001b[39;49m proto\u001b[39m.\u001b[39;49mEND_COMMAND_PART)\n\u001b[0;32m   <a href='file:///d%3A/spark-3.2.1-bin-hadoop3.2/python/lib/py4j-0.10.9.3-src.zip/py4j/java_gateway.py?line=1712'>1713</a>\u001b[0m \u001b[39mif\u001b[39;00m answer \u001b[39m==\u001b[39m proto\u001b[39m.\u001b[39mSUCCESS_PACKAGE:\n\u001b[0;32m   <a href='file:///d%3A/spark-3.2.1-bin-hadoop3.2/python/lib/py4j-0.10.9.3-src.zip/py4j/java_gateway.py?line=1713'>1714</a>\u001b[0m     \u001b[39mreturn\u001b[39;00m JavaPackage(name, \u001b[39mself\u001b[39m\u001b[39m.\u001b[39m_gateway_client, jvm_id\u001b[39m=\u001b[39m\u001b[39mself\u001b[39m\u001b[39m.\u001b[39m_id)\n",
      "File \u001b[1;32mD:\\spark-3.2.1-bin-hadoop3.2\\python\\lib\\py4j-0.10.9.3-src.zip\\py4j\\java_gateway.py:1053\u001b[0m, in \u001b[0;36mGatewayClient.send_command\u001b[1;34m(self, command, retry, binary)\u001b[0m\n\u001b[0;32m   <a href='file:///d%3A/spark-3.2.1-bin-hadoop3.2/python/lib/py4j-0.10.9.3-src.zip/py4j/java_gateway.py?line=1050'>1051</a>\u001b[0m \u001b[39mif\u001b[39;00m \u001b[39mself\u001b[39m\u001b[39m.\u001b[39m_should_retry(retry, connection, pne):\n\u001b[0;32m   <a href='file:///d%3A/spark-3.2.1-bin-hadoop3.2/python/lib/py4j-0.10.9.3-src.zip/py4j/java_gateway.py?line=1051'>1052</a>\u001b[0m     logging\u001b[39m.\u001b[39minfo(\u001b[39m\"\u001b[39m\u001b[39mException while sending command.\u001b[39m\u001b[39m\"\u001b[39m, exc_info\u001b[39m=\u001b[39m\u001b[39mTrue\u001b[39;00m)\n\u001b[1;32m-> <a href='file:///d%3A/spark-3.2.1-bin-hadoop3.2/python/lib/py4j-0.10.9.3-src.zip/py4j/java_gateway.py?line=1052'>1053</a>\u001b[0m     response \u001b[39m=\u001b[39m \u001b[39mself\u001b[39;49m\u001b[39m.\u001b[39;49msend_command(command, binary\u001b[39m=\u001b[39;49mbinary)\n\u001b[0;32m   <a href='file:///d%3A/spark-3.2.1-bin-hadoop3.2/python/lib/py4j-0.10.9.3-src.zip/py4j/java_gateway.py?line=1053'>1054</a>\u001b[0m \u001b[39melse\u001b[39;00m:\n\u001b[0;32m   <a href='file:///d%3A/spark-3.2.1-bin-hadoop3.2/python/lib/py4j-0.10.9.3-src.zip/py4j/java_gateway.py?line=1054'>1055</a>\u001b[0m     logging\u001b[39m.\u001b[39mexception(\n\u001b[0;32m   <a href='file:///d%3A/spark-3.2.1-bin-hadoop3.2/python/lib/py4j-0.10.9.3-src.zip/py4j/java_gateway.py?line=1055'>1056</a>\u001b[0m         \u001b[39m\"\u001b[39m\u001b[39mException while sending command.\u001b[39m\u001b[39m\"\u001b[39m)\n",
      "File \u001b[1;32mD:\\spark-3.2.1-bin-hadoop3.2\\python\\lib\\py4j-0.10.9.3-src.zip\\py4j\\java_gateway.py:1036\u001b[0m, in \u001b[0;36mGatewayClient.send_command\u001b[1;34m(self, command, retry, binary)\u001b[0m\n\u001b[0;32m   <a href='file:///d%3A/spark-3.2.1-bin-hadoop3.2/python/lib/py4j-0.10.9.3-src.zip/py4j/java_gateway.py?line=1014'>1015</a>\u001b[0m \u001b[39mdef\u001b[39;00m \u001b[39msend_command\u001b[39m(\u001b[39mself\u001b[39m, command, retry\u001b[39m=\u001b[39m\u001b[39mTrue\u001b[39;00m, binary\u001b[39m=\u001b[39m\u001b[39mFalse\u001b[39;00m):\n\u001b[0;32m   <a href='file:///d%3A/spark-3.2.1-bin-hadoop3.2/python/lib/py4j-0.10.9.3-src.zip/py4j/java_gateway.py?line=1015'>1016</a>\u001b[0m     \u001b[39m\"\"\"Sends a command to the JVM. This method is not intended to be\u001b[39;00m\n\u001b[0;32m   <a href='file:///d%3A/spark-3.2.1-bin-hadoop3.2/python/lib/py4j-0.10.9.3-src.zip/py4j/java_gateway.py?line=1016'>1017</a>\u001b[0m \u001b[39m       called directly by Py4J users. It is usually called by\u001b[39;00m\n\u001b[0;32m   <a href='file:///d%3A/spark-3.2.1-bin-hadoop3.2/python/lib/py4j-0.10.9.3-src.zip/py4j/java_gateway.py?line=1017'>1018</a>\u001b[0m \u001b[39m       :class:`JavaMember` instances.\u001b[39;00m\n\u001b[1;32m   (...)\u001b[0m\n\u001b[0;32m   <a href='file:///d%3A/spark-3.2.1-bin-hadoop3.2/python/lib/py4j-0.10.9.3-src.zip/py4j/java_gateway.py?line=1033'>1034</a>\u001b[0m \u001b[39m     if `binary` is `True`.\u001b[39;00m\n\u001b[0;32m   <a href='file:///d%3A/spark-3.2.1-bin-hadoop3.2/python/lib/py4j-0.10.9.3-src.zip/py4j/java_gateway.py?line=1034'>1035</a>\u001b[0m \u001b[39m    \"\"\"\u001b[39;00m\n\u001b[1;32m-> <a href='file:///d%3A/spark-3.2.1-bin-hadoop3.2/python/lib/py4j-0.10.9.3-src.zip/py4j/java_gateway.py?line=1035'>1036</a>\u001b[0m     connection \u001b[39m=\u001b[39m \u001b[39mself\u001b[39;49m\u001b[39m.\u001b[39;49m_get_connection()\n\u001b[0;32m   <a href='file:///d%3A/spark-3.2.1-bin-hadoop3.2/python/lib/py4j-0.10.9.3-src.zip/py4j/java_gateway.py?line=1036'>1037</a>\u001b[0m     \u001b[39mtry\u001b[39;00m:\n\u001b[0;32m   <a href='file:///d%3A/spark-3.2.1-bin-hadoop3.2/python/lib/py4j-0.10.9.3-src.zip/py4j/java_gateway.py?line=1037'>1038</a>\u001b[0m         response \u001b[39m=\u001b[39m connection\u001b[39m.\u001b[39msend_command(command)\n",
      "File \u001b[1;32mD:\\spark-3.2.1-bin-hadoop3.2\\python\\lib\\py4j-0.10.9.3-src.zip\\py4j\\clientserver.py:281\u001b[0m, in \u001b[0;36mJavaClient._get_connection\u001b[1;34m(self)\u001b[0m\n\u001b[0;32m    <a href='file:///d%3A/spark-3.2.1-bin-hadoop3.2/python/lib/py4j-0.10.9.3-src.zip/py4j/clientserver.py?line=277'>278</a>\u001b[0m     \u001b[39mpass\u001b[39;00m\n\u001b[0;32m    <a href='file:///d%3A/spark-3.2.1-bin-hadoop3.2/python/lib/py4j-0.10.9.3-src.zip/py4j/clientserver.py?line=279'>280</a>\u001b[0m \u001b[39mif\u001b[39;00m connection \u001b[39mis\u001b[39;00m \u001b[39mNone\u001b[39;00m \u001b[39mor\u001b[39;00m connection\u001b[39m.\u001b[39msocket \u001b[39mis\u001b[39;00m \u001b[39mNone\u001b[39;00m:\n\u001b[1;32m--> <a href='file:///d%3A/spark-3.2.1-bin-hadoop3.2/python/lib/py4j-0.10.9.3-src.zip/py4j/clientserver.py?line=280'>281</a>\u001b[0m     connection \u001b[39m=\u001b[39m \u001b[39mself\u001b[39;49m\u001b[39m.\u001b[39;49m_create_new_connection()\n\u001b[0;32m    <a href='file:///d%3A/spark-3.2.1-bin-hadoop3.2/python/lib/py4j-0.10.9.3-src.zip/py4j/clientserver.py?line=281'>282</a>\u001b[0m \u001b[39mreturn\u001b[39;00m connection\n",
      "File \u001b[1;32mD:\\spark-3.2.1-bin-hadoop3.2\\python\\lib\\py4j-0.10.9.3-src.zip\\py4j\\clientserver.py:288\u001b[0m, in \u001b[0;36mJavaClient._create_new_connection\u001b[1;34m(self)\u001b[0m\n\u001b[0;32m    <a href='file:///d%3A/spark-3.2.1-bin-hadoop3.2/python/lib/py4j-0.10.9.3-src.zip/py4j/clientserver.py?line=283'>284</a>\u001b[0m \u001b[39mdef\u001b[39;00m \u001b[39m_create_new_connection\u001b[39m(\u001b[39mself\u001b[39m):\n\u001b[0;32m    <a href='file:///d%3A/spark-3.2.1-bin-hadoop3.2/python/lib/py4j-0.10.9.3-src.zip/py4j/clientserver.py?line=284'>285</a>\u001b[0m     connection \u001b[39m=\u001b[39m ClientServerConnection(\n\u001b[0;32m    <a href='file:///d%3A/spark-3.2.1-bin-hadoop3.2/python/lib/py4j-0.10.9.3-src.zip/py4j/clientserver.py?line=285'>286</a>\u001b[0m         \u001b[39mself\u001b[39m\u001b[39m.\u001b[39mjava_parameters, \u001b[39mself\u001b[39m\u001b[39m.\u001b[39mpython_parameters,\n\u001b[0;32m    <a href='file:///d%3A/spark-3.2.1-bin-hadoop3.2/python/lib/py4j-0.10.9.3-src.zip/py4j/clientserver.py?line=286'>287</a>\u001b[0m         \u001b[39mself\u001b[39m\u001b[39m.\u001b[39mgateway_property, \u001b[39mself\u001b[39m)\n\u001b[1;32m--> <a href='file:///d%3A/spark-3.2.1-bin-hadoop3.2/python/lib/py4j-0.10.9.3-src.zip/py4j/clientserver.py?line=287'>288</a>\u001b[0m     connection\u001b[39m.\u001b[39;49mconnect_to_java_server()\n\u001b[0;32m    <a href='file:///d%3A/spark-3.2.1-bin-hadoop3.2/python/lib/py4j-0.10.9.3-src.zip/py4j/clientserver.py?line=288'>289</a>\u001b[0m     \u001b[39mself\u001b[39m\u001b[39m.\u001b[39mset_thread_connection(connection)\n\u001b[0;32m    <a href='file:///d%3A/spark-3.2.1-bin-hadoop3.2/python/lib/py4j-0.10.9.3-src.zip/py4j/clientserver.py?line=289'>290</a>\u001b[0m     \u001b[39mreturn\u001b[39;00m connection\n",
      "File \u001b[1;32mD:\\spark-3.2.1-bin-hadoop3.2\\python\\lib\\py4j-0.10.9.3-src.zip\\py4j\\clientserver.py:402\u001b[0m, in \u001b[0;36mClientServerConnection.connect_to_java_server\u001b[1;34m(self)\u001b[0m\n\u001b[0;32m    <a href='file:///d%3A/spark-3.2.1-bin-hadoop3.2/python/lib/py4j-0.10.9.3-src.zip/py4j/clientserver.py?line=398'>399</a>\u001b[0m \u001b[39mif\u001b[39;00m \u001b[39mself\u001b[39m\u001b[39m.\u001b[39mssl_context:\n\u001b[0;32m    <a href='file:///d%3A/spark-3.2.1-bin-hadoop3.2/python/lib/py4j-0.10.9.3-src.zip/py4j/clientserver.py?line=399'>400</a>\u001b[0m     \u001b[39mself\u001b[39m\u001b[39m.\u001b[39msocket \u001b[39m=\u001b[39m \u001b[39mself\u001b[39m\u001b[39m.\u001b[39mssl_context\u001b[39m.\u001b[39mwrap_socket(\n\u001b[0;32m    <a href='file:///d%3A/spark-3.2.1-bin-hadoop3.2/python/lib/py4j-0.10.9.3-src.zip/py4j/clientserver.py?line=400'>401</a>\u001b[0m         \u001b[39mself\u001b[39m\u001b[39m.\u001b[39msocket, server_hostname\u001b[39m=\u001b[39m\u001b[39mself\u001b[39m\u001b[39m.\u001b[39mjava_address)\n\u001b[1;32m--> <a href='file:///d%3A/spark-3.2.1-bin-hadoop3.2/python/lib/py4j-0.10.9.3-src.zip/py4j/clientserver.py?line=401'>402</a>\u001b[0m \u001b[39mself\u001b[39;49m\u001b[39m.\u001b[39;49msocket\u001b[39m.\u001b[39;49mconnect((\u001b[39mself\u001b[39;49m\u001b[39m.\u001b[39;49mjava_address, \u001b[39mself\u001b[39;49m\u001b[39m.\u001b[39;49mjava_port))\n\u001b[0;32m    <a href='file:///d%3A/spark-3.2.1-bin-hadoop3.2/python/lib/py4j-0.10.9.3-src.zip/py4j/clientserver.py?line=402'>403</a>\u001b[0m \u001b[39mself\u001b[39m\u001b[39m.\u001b[39mstream \u001b[39m=\u001b[39m \u001b[39mself\u001b[39m\u001b[39m.\u001b[39msocket\u001b[39m.\u001b[39mmakefile(\u001b[39m\"\u001b[39m\u001b[39mrb\u001b[39m\u001b[39m\"\u001b[39m)\n\u001b[0;32m    <a href='file:///d%3A/spark-3.2.1-bin-hadoop3.2/python/lib/py4j-0.10.9.3-src.zip/py4j/clientserver.py?line=403'>404</a>\u001b[0m \u001b[39mself\u001b[39m\u001b[39m.\u001b[39mis_connected \u001b[39m=\u001b[39m \u001b[39mTrue\u001b[39;00m\n",
      "\u001b[1;31mConnectionRefusedError\u001b[0m: [WinError 10061] No connection could be made because the target machine actively refused it"
     ]
    }
   ],
   "source": [
    "rfcvModel = rfcv.fit(train_data)\n",
    "print(rfcvModel)\n",
    "rfpredictions = rfcvModel.transform(test_data)\n",
    "print('RMSE:', rfevaluator.evaluate(rfpredictions) - 0.699)"
   ]
  },
  {
   "cell_type": "code",
   "execution_count": null,
   "id": "3d837f2d",
   "metadata": {},
   "outputs": [
    {
     "data": {
      "text/plain": [
       "Row(features=DenseVector([7.0, 7.0, 1.0, 0.95, 5.5, 0.5, 0.5, 0.0, 0.0, 0.3, 6.8, 2.0, 1.0, 0.0, 6.0, 310.0]), total_amount=6.8, prediction=7.936878095238151)"
      ]
     },
     "execution_count": 75,
     "metadata": {},
     "output_type": "execute_result"
    }
   ],
   "source": [
    "rfpredictions.head()"
   ]
  },
  {
   "cell_type": "code",
   "execution_count": null,
   "id": "8645f6d7",
   "metadata": {},
   "outputs": [
    {
     "name": "stdout",
     "output_type": "stream",
     "text": [
      "[[RandomForestRegressionModel: uid=RandomForestRegressor_0ed25acb241f, numTrees=5, numFeatures=16, RandomForestRegressionModel: uid=RandomForestRegressor_0ed25acb241f, numTrees=20, numFeatures=16, RandomForestRegressionModel: uid=RandomForestRegressor_0ed25acb241f, numTrees=50, numFeatures=16, RandomForestRegressionModel: uid=RandomForestRegressor_0ed25acb241f, numTrees=100, numFeatures=16, RandomForestRegressionModel: uid=RandomForestRegressor_0ed25acb241f, numTrees=500, numFeatures=16, RandomForestRegressionModel: uid=RandomForestRegressor_0ed25acb241f, numTrees=5, numFeatures=16, RandomForestRegressionModel: uid=RandomForestRegressor_0ed25acb241f, numTrees=20, numFeatures=16, RandomForestRegressionModel: uid=RandomForestRegressor_0ed25acb241f, numTrees=50, numFeatures=16, RandomForestRegressionModel: uid=RandomForestRegressor_0ed25acb241f, numTrees=100, numFeatures=16, RandomForestRegressionModel: uid=RandomForestRegressor_0ed25acb241f, numTrees=500, numFeatures=16, RandomForestRegressionModel: uid=RandomForestRegressor_0ed25acb241f, numTrees=5, numFeatures=16, RandomForestRegressionModel: uid=RandomForestRegressor_0ed25acb241f, numTrees=20, numFeatures=16, RandomForestRegressionModel: uid=RandomForestRegressor_0ed25acb241f, numTrees=50, numFeatures=16, RandomForestRegressionModel: uid=RandomForestRegressor_0ed25acb241f, numTrees=100, numFeatures=16, RandomForestRegressionModel: uid=RandomForestRegressor_0ed25acb241f, numTrees=500, numFeatures=16, RandomForestRegressionModel: uid=RandomForestRegressor_0ed25acb241f, numTrees=5, numFeatures=16, RandomForestRegressionModel: uid=RandomForestRegressor_0ed25acb241f, numTrees=20, numFeatures=16, RandomForestRegressionModel: uid=RandomForestRegressor_0ed25acb241f, numTrees=50, numFeatures=16, RandomForestRegressionModel: uid=RandomForestRegressor_0ed25acb241f, numTrees=100, numFeatures=16, RandomForestRegressionModel: uid=RandomForestRegressor_0ed25acb241f, numTrees=500, numFeatures=16, RandomForestRegressionModel: uid=RandomForestRegressor_0ed25acb241f, numTrees=5, numFeatures=16, RandomForestRegressionModel: uid=RandomForestRegressor_0ed25acb241f, numTrees=20, numFeatures=16, RandomForestRegressionModel: uid=RandomForestRegressor_0ed25acb241f, numTrees=50, numFeatures=16, RandomForestRegressionModel: uid=RandomForestRegressor_0ed25acb241f, numTrees=100, numFeatures=16, RandomForestRegressionModel: uid=RandomForestRegressor_0ed25acb241f, numTrees=500, numFeatures=16, RandomForestRegressionModel: uid=RandomForestRegressor_0ed25acb241f, numTrees=5, numFeatures=16, RandomForestRegressionModel: uid=RandomForestRegressor_0ed25acb241f, numTrees=20, numFeatures=16, RandomForestRegressionModel: uid=RandomForestRegressor_0ed25acb241f, numTrees=50, numFeatures=16, RandomForestRegressionModel: uid=RandomForestRegressor_0ed25acb241f, numTrees=100, numFeatures=16, RandomForestRegressionModel: uid=RandomForestRegressor_0ed25acb241f, numTrees=500, numFeatures=16, RandomForestRegressionModel: uid=RandomForestRegressor_0ed25acb241f, numTrees=5, numFeatures=16, RandomForestRegressionModel: uid=RandomForestRegressor_0ed25acb241f, numTrees=20, numFeatures=16, RandomForestRegressionModel: uid=RandomForestRegressor_0ed25acb241f, numTrees=50, numFeatures=16, RandomForestRegressionModel: uid=RandomForestRegressor_0ed25acb241f, numTrees=100, numFeatures=16, RandomForestRegressionModel: uid=RandomForestRegressor_0ed25acb241f, numTrees=500, numFeatures=16, RandomForestRegressionModel: uid=RandomForestRegressor_0ed25acb241f, numTrees=5, numFeatures=16, RandomForestRegressionModel: uid=RandomForestRegressor_0ed25acb241f, numTrees=20, numFeatures=16, RandomForestRegressionModel: uid=RandomForestRegressor_0ed25acb241f, numTrees=50, numFeatures=16, RandomForestRegressionModel: uid=RandomForestRegressor_0ed25acb241f, numTrees=100, numFeatures=16, RandomForestRegressionModel: uid=RandomForestRegressor_0ed25acb241f, numTrees=500, numFeatures=16, RandomForestRegressionModel: uid=RandomForestRegressor_0ed25acb241f, numTrees=5, numFeatures=16, RandomForestRegressionModel: uid=RandomForestRegressor_0ed25acb241f, numTrees=20, numFeatures=16, RandomForestRegressionModel: uid=RandomForestRegressor_0ed25acb241f, numTrees=50, numFeatures=16, RandomForestRegressionModel: uid=RandomForestRegressor_0ed25acb241f, numTrees=100, numFeatures=16, RandomForestRegressionModel: uid=RandomForestRegressor_0ed25acb241f, numTrees=500, numFeatures=16, RandomForestRegressionModel: uid=RandomForestRegressor_0ed25acb241f, numTrees=5, numFeatures=16, RandomForestRegressionModel: uid=RandomForestRegressor_0ed25acb241f, numTrees=20, numFeatures=16, RandomForestRegressionModel: uid=RandomForestRegressor_0ed25acb241f, numTrees=50, numFeatures=16, RandomForestRegressionModel: uid=RandomForestRegressor_0ed25acb241f, numTrees=100, numFeatures=16, RandomForestRegressionModel: uid=RandomForestRegressor_0ed25acb241f, numTrees=500, numFeatures=16, RandomForestRegressionModel: uid=RandomForestRegressor_0ed25acb241f, numTrees=5, numFeatures=16, RandomForestRegressionModel: uid=RandomForestRegressor_0ed25acb241f, numTrees=20, numFeatures=16, RandomForestRegressionModel: uid=RandomForestRegressor_0ed25acb241f, numTrees=50, numFeatures=16, RandomForestRegressionModel: uid=RandomForestRegressor_0ed25acb241f, numTrees=100, numFeatures=16, RandomForestRegressionModel: uid=RandomForestRegressor_0ed25acb241f, numTrees=500, numFeatures=16, RandomForestRegressionModel: uid=RandomForestRegressor_0ed25acb241f, numTrees=5, numFeatures=16, RandomForestRegressionModel: uid=RandomForestRegressor_0ed25acb241f, numTrees=20, numFeatures=16, RandomForestRegressionModel: uid=RandomForestRegressor_0ed25acb241f, numTrees=50, numFeatures=16, RandomForestRegressionModel: uid=RandomForestRegressor_0ed25acb241f, numTrees=100, numFeatures=16, RandomForestRegressionModel: uid=RandomForestRegressor_0ed25acb241f, numTrees=500, numFeatures=16, RandomForestRegressionModel: uid=RandomForestRegressor_0ed25acb241f, numTrees=5, numFeatures=16, RandomForestRegressionModel: uid=RandomForestRegressor_0ed25acb241f, numTrees=20, numFeatures=16, RandomForestRegressionModel: uid=RandomForestRegressor_0ed25acb241f, numTrees=50, numFeatures=16, RandomForestRegressionModel: uid=RandomForestRegressor_0ed25acb241f, numTrees=100, numFeatures=16, RandomForestRegressionModel: uid=RandomForestRegressor_0ed25acb241f, numTrees=500, numFeatures=16, RandomForestRegressionModel: uid=RandomForestRegressor_0ed25acb241f, numTrees=5, numFeatures=16, RandomForestRegressionModel: uid=RandomForestRegressor_0ed25acb241f, numTrees=20, numFeatures=16, RandomForestRegressionModel: uid=RandomForestRegressor_0ed25acb241f, numTrees=50, numFeatures=16, RandomForestRegressionModel: uid=RandomForestRegressor_0ed25acb241f, numTrees=100, numFeatures=16, RandomForestRegressionModel: uid=RandomForestRegressor_0ed25acb241f, numTrees=500, numFeatures=16, RandomForestRegressionModel: uid=RandomForestRegressor_0ed25acb241f, numTrees=5, numFeatures=16, RandomForestRegressionModel: uid=RandomForestRegressor_0ed25acb241f, numTrees=20, numFeatures=16, RandomForestRegressionModel: uid=RandomForestRegressor_0ed25acb241f, numTrees=50, numFeatures=16, RandomForestRegressionModel: uid=RandomForestRegressor_0ed25acb241f, numTrees=100, numFeatures=16, RandomForestRegressionModel: uid=RandomForestRegressor_0ed25acb241f, numTrees=500, numFeatures=16, RandomForestRegressionModel: uid=RandomForestRegressor_0ed25acb241f, numTrees=5, numFeatures=16, RandomForestRegressionModel: uid=RandomForestRegressor_0ed25acb241f, numTrees=20, numFeatures=16, RandomForestRegressionModel: uid=RandomForestRegressor_0ed25acb241f, numTrees=50, numFeatures=16, RandomForestRegressionModel: uid=RandomForestRegressor_0ed25acb241f, numTrees=100, numFeatures=16, RandomForestRegressionModel: uid=RandomForestRegressor_0ed25acb241f, numTrees=500, numFeatures=16, RandomForestRegressionModel: uid=RandomForestRegressor_0ed25acb241f, numTrees=5, numFeatures=16, RandomForestRegressionModel: uid=RandomForestRegressor_0ed25acb241f, numTrees=20, numFeatures=16, RandomForestRegressionModel: uid=RandomForestRegressor_0ed25acb241f, numTrees=50, numFeatures=16, RandomForestRegressionModel: uid=RandomForestRegressor_0ed25acb241f, numTrees=100, numFeatures=16, RandomForestRegressionModel: uid=RandomForestRegressor_0ed25acb241f, numTrees=500, numFeatures=16, RandomForestRegressionModel: uid=RandomForestRegressor_0ed25acb241f, numTrees=5, numFeatures=16, RandomForestRegressionModel: uid=RandomForestRegressor_0ed25acb241f, numTrees=20, numFeatures=16, RandomForestRegressionModel: uid=RandomForestRegressor_0ed25acb241f, numTrees=50, numFeatures=16, RandomForestRegressionModel: uid=RandomForestRegressor_0ed25acb241f, numTrees=100, numFeatures=16, RandomForestRegressionModel: uid=RandomForestRegressor_0ed25acb241f, numTrees=500, numFeatures=16, RandomForestRegressionModel: uid=RandomForestRegressor_0ed25acb241f, numTrees=5, numFeatures=16, RandomForestRegressionModel: uid=RandomForestRegressor_0ed25acb241f, numTrees=20, numFeatures=16, RandomForestRegressionModel: uid=RandomForestRegressor_0ed25acb241f, numTrees=50, numFeatures=16, RandomForestRegressionModel: uid=RandomForestRegressor_0ed25acb241f, numTrees=100, numFeatures=16, RandomForestRegressionModel: uid=RandomForestRegressor_0ed25acb241f, numTrees=500, numFeatures=16, RandomForestRegressionModel: uid=RandomForestRegressor_0ed25acb241f, numTrees=5, numFeatures=16, RandomForestRegressionModel: uid=RandomForestRegressor_0ed25acb241f, numTrees=20, numFeatures=16, RandomForestRegressionModel: uid=RandomForestRegressor_0ed25acb241f, numTrees=50, numFeatures=16, RandomForestRegressionModel: uid=RandomForestRegressor_0ed25acb241f, numTrees=100, numFeatures=16, RandomForestRegressionModel: uid=RandomForestRegressor_0ed25acb241f, numTrees=500, numFeatures=16, RandomForestRegressionModel: uid=RandomForestRegressor_0ed25acb241f, numTrees=5, numFeatures=16, RandomForestRegressionModel: uid=RandomForestRegressor_0ed25acb241f, numTrees=20, numFeatures=16, RandomForestRegressionModel: uid=RandomForestRegressor_0ed25acb241f, numTrees=50, numFeatures=16, RandomForestRegressionModel: uid=RandomForestRegressor_0ed25acb241f, numTrees=100, numFeatures=16, RandomForestRegressionModel: uid=RandomForestRegressor_0ed25acb241f, numTrees=500, numFeatures=16, RandomForestRegressionModel: uid=RandomForestRegressor_0ed25acb241f, numTrees=5, numFeatures=16, RandomForestRegressionModel: uid=RandomForestRegressor_0ed25acb241f, numTrees=20, numFeatures=16, RandomForestRegressionModel: uid=RandomForestRegressor_0ed25acb241f, numTrees=50, numFeatures=16, RandomForestRegressionModel: uid=RandomForestRegressor_0ed25acb241f, numTrees=100, numFeatures=16, RandomForestRegressionModel: uid=RandomForestRegressor_0ed25acb241f, numTrees=500, numFeatures=16, RandomForestRegressionModel: uid=RandomForestRegressor_0ed25acb241f, numTrees=5, numFeatures=16, RandomForestRegressionModel: uid=RandomForestRegressor_0ed25acb241f, numTrees=20, numFeatures=16, RandomForestRegressionModel: uid=RandomForestRegressor_0ed25acb241f, numTrees=50, numFeatures=16, RandomForestRegressionModel: uid=RandomForestRegressor_0ed25acb241f, numTrees=100, numFeatures=16, RandomForestRegressionModel: uid=RandomForestRegressor_0ed25acb241f, numTrees=500, numFeatures=16, RandomForestRegressionModel: uid=RandomForestRegressor_0ed25acb241f, numTrees=5, numFeatures=16, RandomForestRegressionModel: uid=RandomForestRegressor_0ed25acb241f, numTrees=20, numFeatures=16, RandomForestRegressionModel: uid=RandomForestRegressor_0ed25acb241f, numTrees=50, numFeatures=16, RandomForestRegressionModel: uid=RandomForestRegressor_0ed25acb241f, numTrees=100, numFeatures=16, RandomForestRegressionModel: uid=RandomForestRegressor_0ed25acb241f, numTrees=500, numFeatures=16, RandomForestRegressionModel: uid=RandomForestRegressor_0ed25acb241f, numTrees=5, numFeatures=16, RandomForestRegressionModel: uid=RandomForestRegressor_0ed25acb241f, numTrees=20, numFeatures=16, RandomForestRegressionModel: uid=RandomForestRegressor_0ed25acb241f, numTrees=50, numFeatures=16, RandomForestRegressionModel: uid=RandomForestRegressor_0ed25acb241f, numTrees=100, numFeatures=16, RandomForestRegressionModel: uid=RandomForestRegressor_0ed25acb241f, numTrees=500, numFeatures=16], [RandomForestRegressionModel: uid=RandomForestRegressor_0ed25acb241f, numTrees=5, numFeatures=16, RandomForestRegressionModel: uid=RandomForestRegressor_0ed25acb241f, numTrees=20, numFeatures=16, RandomForestRegressionModel: uid=RandomForestRegressor_0ed25acb241f, numTrees=50, numFeatures=16, RandomForestRegressionModel: uid=RandomForestRegressor_0ed25acb241f, numTrees=100, numFeatures=16, RandomForestRegressionModel: uid=RandomForestRegressor_0ed25acb241f, numTrees=500, numFeatures=16, RandomForestRegressionModel: uid=RandomForestRegressor_0ed25acb241f, numTrees=5, numFeatures=16, RandomForestRegressionModel: uid=RandomForestRegressor_0ed25acb241f, numTrees=20, numFeatures=16, RandomForestRegressionModel: uid=RandomForestRegressor_0ed25acb241f, numTrees=50, numFeatures=16, RandomForestRegressionModel: uid=RandomForestRegressor_0ed25acb241f, numTrees=100, numFeatures=16, RandomForestRegressionModel: uid=RandomForestRegressor_0ed25acb241f, numTrees=500, numFeatures=16, RandomForestRegressionModel: uid=RandomForestRegressor_0ed25acb241f, numTrees=5, numFeatures=16, RandomForestRegressionModel: uid=RandomForestRegressor_0ed25acb241f, numTrees=20, numFeatures=16, RandomForestRegressionModel: uid=RandomForestRegressor_0ed25acb241f, numTrees=50, numFeatures=16, RandomForestRegressionModel: uid=RandomForestRegressor_0ed25acb241f, numTrees=100, numFeatures=16, RandomForestRegressionModel: uid=RandomForestRegressor_0ed25acb241f, numTrees=500, numFeatures=16, RandomForestRegressionModel: uid=RandomForestRegressor_0ed25acb241f, numTrees=5, numFeatures=16, RandomForestRegressionModel: uid=RandomForestRegressor_0ed25acb241f, numTrees=20, numFeatures=16, RandomForestRegressionModel: uid=RandomForestRegressor_0ed25acb241f, numTrees=50, numFeatures=16, RandomForestRegressionModel: uid=RandomForestRegressor_0ed25acb241f, numTrees=100, numFeatures=16, RandomForestRegressionModel: uid=RandomForestRegressor_0ed25acb241f, numTrees=500, numFeatures=16, RandomForestRegressionModel: uid=RandomForestRegressor_0ed25acb241f, numTrees=5, numFeatures=16, RandomForestRegressionModel: uid=RandomForestRegressor_0ed25acb241f, numTrees=20, numFeatures=16, RandomForestRegressionModel: uid=RandomForestRegressor_0ed25acb241f, numTrees=50, numFeatures=16, RandomForestRegressionModel: uid=RandomForestRegressor_0ed25acb241f, numTrees=100, numFeatures=16, RandomForestRegressionModel: uid=RandomForestRegressor_0ed25acb241f, numTrees=500, numFeatures=16, RandomForestRegressionModel: uid=RandomForestRegressor_0ed25acb241f, numTrees=5, numFeatures=16, RandomForestRegressionModel: uid=RandomForestRegressor_0ed25acb241f, numTrees=20, numFeatures=16, RandomForestRegressionModel: uid=RandomForestRegressor_0ed25acb241f, numTrees=50, numFeatures=16, RandomForestRegressionModel: uid=RandomForestRegressor_0ed25acb241f, numTrees=100, numFeatures=16, RandomForestRegressionModel: uid=RandomForestRegressor_0ed25acb241f, numTrees=500, numFeatures=16, RandomForestRegressionModel: uid=RandomForestRegressor_0ed25acb241f, numTrees=5, numFeatures=16, RandomForestRegressionModel: uid=RandomForestRegressor_0ed25acb241f, numTrees=20, numFeatures=16, RandomForestRegressionModel: uid=RandomForestRegressor_0ed25acb241f, numTrees=50, numFeatures=16, RandomForestRegressionModel: uid=RandomForestRegressor_0ed25acb241f, numTrees=100, numFeatures=16, RandomForestRegressionModel: uid=RandomForestRegressor_0ed25acb241f, numTrees=500, numFeatures=16, RandomForestRegressionModel: uid=RandomForestRegressor_0ed25acb241f, numTrees=5, numFeatures=16, RandomForestRegressionModel: uid=RandomForestRegressor_0ed25acb241f, numTrees=20, numFeatures=16, RandomForestRegressionModel: uid=RandomForestRegressor_0ed25acb241f, numTrees=50, numFeatures=16, RandomForestRegressionModel: uid=RandomForestRegressor_0ed25acb241f, numTrees=100, numFeatures=16, RandomForestRegressionModel: uid=RandomForestRegressor_0ed25acb241f, numTrees=500, numFeatures=16, RandomForestRegressionModel: uid=RandomForestRegressor_0ed25acb241f, numTrees=5, numFeatures=16, RandomForestRegressionModel: uid=RandomForestRegressor_0ed25acb241f, numTrees=20, numFeatures=16, RandomForestRegressionModel: uid=RandomForestRegressor_0ed25acb241f, numTrees=50, numFeatures=16, RandomForestRegressionModel: uid=RandomForestRegressor_0ed25acb241f, numTrees=100, numFeatures=16, RandomForestRegressionModel: uid=RandomForestRegressor_0ed25acb241f, numTrees=500, numFeatures=16, RandomForestRegressionModel: uid=RandomForestRegressor_0ed25acb241f, numTrees=5, numFeatures=16, RandomForestRegressionModel: uid=RandomForestRegressor_0ed25acb241f, numTrees=20, numFeatures=16, RandomForestRegressionModel: uid=RandomForestRegressor_0ed25acb241f, numTrees=50, numFeatures=16, RandomForestRegressionModel: uid=RandomForestRegressor_0ed25acb241f, numTrees=100, numFeatures=16, RandomForestRegressionModel: uid=RandomForestRegressor_0ed25acb241f, numTrees=500, numFeatures=16, RandomForestRegressionModel: uid=RandomForestRegressor_0ed25acb241f, numTrees=5, numFeatures=16, RandomForestRegressionModel: uid=RandomForestRegressor_0ed25acb241f, numTrees=20, numFeatures=16, RandomForestRegressionModel: uid=RandomForestRegressor_0ed25acb241f, numTrees=50, numFeatures=16, RandomForestRegressionModel: uid=RandomForestRegressor_0ed25acb241f, numTrees=100, numFeatures=16, RandomForestRegressionModel: uid=RandomForestRegressor_0ed25acb241f, numTrees=500, numFeatures=16, RandomForestRegressionModel: uid=RandomForestRegressor_0ed25acb241f, numTrees=5, numFeatures=16, RandomForestRegressionModel: uid=RandomForestRegressor_0ed25acb241f, numTrees=20, numFeatures=16, RandomForestRegressionModel: uid=RandomForestRegressor_0ed25acb241f, numTrees=50, numFeatures=16, RandomForestRegressionModel: uid=RandomForestRegressor_0ed25acb241f, numTrees=100, numFeatures=16, RandomForestRegressionModel: uid=RandomForestRegressor_0ed25acb241f, numTrees=500, numFeatures=16, RandomForestRegressionModel: uid=RandomForestRegressor_0ed25acb241f, numTrees=5, numFeatures=16, RandomForestRegressionModel: uid=RandomForestRegressor_0ed25acb241f, numTrees=20, numFeatures=16, RandomForestRegressionModel: uid=RandomForestRegressor_0ed25acb241f, numTrees=50, numFeatures=16, RandomForestRegressionModel: uid=RandomForestRegressor_0ed25acb241f, numTrees=100, numFeatures=16, RandomForestRegressionModel: uid=RandomForestRegressor_0ed25acb241f, numTrees=500, numFeatures=16, RandomForestRegressionModel: uid=RandomForestRegressor_0ed25acb241f, numTrees=5, numFeatures=16, RandomForestRegressionModel: uid=RandomForestRegressor_0ed25acb241f, numTrees=20, numFeatures=16, RandomForestRegressionModel: uid=RandomForestRegressor_0ed25acb241f, numTrees=50, numFeatures=16, RandomForestRegressionModel: uid=RandomForestRegressor_0ed25acb241f, numTrees=100, numFeatures=16, RandomForestRegressionModel: uid=RandomForestRegressor_0ed25acb241f, numTrees=500, numFeatures=16, RandomForestRegressionModel: uid=RandomForestRegressor_0ed25acb241f, numTrees=5, numFeatures=16, RandomForestRegressionModel: uid=RandomForestRegressor_0ed25acb241f, numTrees=20, numFeatures=16, RandomForestRegressionModel: uid=RandomForestRegressor_0ed25acb241f, numTrees=50, numFeatures=16, RandomForestRegressionModel: uid=RandomForestRegressor_0ed25acb241f, numTrees=100, numFeatures=16, RandomForestRegressionModel: uid=RandomForestRegressor_0ed25acb241f, numTrees=500, numFeatures=16, RandomForestRegressionModel: uid=RandomForestRegressor_0ed25acb241f, numTrees=5, numFeatures=16, RandomForestRegressionModel: uid=RandomForestRegressor_0ed25acb241f, numTrees=20, numFeatures=16, RandomForestRegressionModel: uid=RandomForestRegressor_0ed25acb241f, numTrees=50, numFeatures=16, RandomForestRegressionModel: uid=RandomForestRegressor_0ed25acb241f, numTrees=100, numFeatures=16, RandomForestRegressionModel: uid=RandomForestRegressor_0ed25acb241f, numTrees=500, numFeatures=16, RandomForestRegressionModel: uid=RandomForestRegressor_0ed25acb241f, numTrees=5, numFeatures=16, RandomForestRegressionModel: uid=RandomForestRegressor_0ed25acb241f, numTrees=20, numFeatures=16, RandomForestRegressionModel: uid=RandomForestRegressor_0ed25acb241f, numTrees=50, numFeatures=16, RandomForestRegressionModel: uid=RandomForestRegressor_0ed25acb241f, numTrees=100, numFeatures=16, RandomForestRegressionModel: uid=RandomForestRegressor_0ed25acb241f, numTrees=500, numFeatures=16, RandomForestRegressionModel: uid=RandomForestRegressor_0ed25acb241f, numTrees=5, numFeatures=16, RandomForestRegressionModel: uid=RandomForestRegressor_0ed25acb241f, numTrees=20, numFeatures=16, RandomForestRegressionModel: uid=RandomForestRegressor_0ed25acb241f, numTrees=50, numFeatures=16, RandomForestRegressionModel: uid=RandomForestRegressor_0ed25acb241f, numTrees=100, numFeatures=16, RandomForestRegressionModel: uid=RandomForestRegressor_0ed25acb241f, numTrees=500, numFeatures=16, RandomForestRegressionModel: uid=RandomForestRegressor_0ed25acb241f, numTrees=5, numFeatures=16, RandomForestRegressionModel: uid=RandomForestRegressor_0ed25acb241f, numTrees=20, numFeatures=16, RandomForestRegressionModel: uid=RandomForestRegressor_0ed25acb241f, numTrees=50, numFeatures=16, RandomForestRegressionModel: uid=RandomForestRegressor_0ed25acb241f, numTrees=100, numFeatures=16, RandomForestRegressionModel: uid=RandomForestRegressor_0ed25acb241f, numTrees=500, numFeatures=16, RandomForestRegressionModel: uid=RandomForestRegressor_0ed25acb241f, numTrees=5, numFeatures=16, RandomForestRegressionModel: uid=RandomForestRegressor_0ed25acb241f, numTrees=20, numFeatures=16, RandomForestRegressionModel: uid=RandomForestRegressor_0ed25acb241f, numTrees=50, numFeatures=16, RandomForestRegressionModel: uid=RandomForestRegressor_0ed25acb241f, numTrees=100, numFeatures=16, RandomForestRegressionModel: uid=RandomForestRegressor_0ed25acb241f, numTrees=500, numFeatures=16, RandomForestRegressionModel: uid=RandomForestRegressor_0ed25acb241f, numTrees=5, numFeatures=16, RandomForestRegressionModel: uid=RandomForestRegressor_0ed25acb241f, numTrees=20, numFeatures=16, RandomForestRegressionModel: uid=RandomForestRegressor_0ed25acb241f, numTrees=50, numFeatures=16, RandomForestRegressionModel: uid=RandomForestRegressor_0ed25acb241f, numTrees=100, numFeatures=16, RandomForestRegressionModel: uid=RandomForestRegressor_0ed25acb241f, numTrees=500, numFeatures=16, RandomForestRegressionModel: uid=RandomForestRegressor_0ed25acb241f, numTrees=5, numFeatures=16, RandomForestRegressionModel: uid=RandomForestRegressor_0ed25acb241f, numTrees=20, numFeatures=16, RandomForestRegressionModel: uid=RandomForestRegressor_0ed25acb241f, numTrees=50, numFeatures=16, RandomForestRegressionModel: uid=RandomForestRegressor_0ed25acb241f, numTrees=100, numFeatures=16, RandomForestRegressionModel: uid=RandomForestRegressor_0ed25acb241f, numTrees=500, numFeatures=16, RandomForestRegressionModel: uid=RandomForestRegressor_0ed25acb241f, numTrees=5, numFeatures=16, RandomForestRegressionModel: uid=RandomForestRegressor_0ed25acb241f, numTrees=20, numFeatures=16, RandomForestRegressionModel: uid=RandomForestRegressor_0ed25acb241f, numTrees=50, numFeatures=16, RandomForestRegressionModel: uid=RandomForestRegressor_0ed25acb241f, numTrees=100, numFeatures=16, RandomForestRegressionModel: uid=RandomForestRegressor_0ed25acb241f, numTrees=500, numFeatures=16, RandomForestRegressionModel: uid=RandomForestRegressor_0ed25acb241f, numTrees=5, numFeatures=16, RandomForestRegressionModel: uid=RandomForestRegressor_0ed25acb241f, numTrees=20, numFeatures=16, RandomForestRegressionModel: uid=RandomForestRegressor_0ed25acb241f, numTrees=50, numFeatures=16, RandomForestRegressionModel: uid=RandomForestRegressor_0ed25acb241f, numTrees=100, numFeatures=16, RandomForestRegressionModel: uid=RandomForestRegressor_0ed25acb241f, numTrees=500, numFeatures=16, RandomForestRegressionModel: uid=RandomForestRegressor_0ed25acb241f, numTrees=5, numFeatures=16, RandomForestRegressionModel: uid=RandomForestRegressor_0ed25acb241f, numTrees=20, numFeatures=16, RandomForestRegressionModel: uid=RandomForestRegressor_0ed25acb241f, numTrees=50, numFeatures=16, RandomForestRegressionModel: uid=RandomForestRegressor_0ed25acb241f, numTrees=100, numFeatures=16, RandomForestRegressionModel: uid=RandomForestRegressor_0ed25acb241f, numTrees=500, numFeatures=16], [RandomForestRegressionModel: uid=RandomForestRegressor_0ed25acb241f, numTrees=5, numFeatures=16, RandomForestRegressionModel: uid=RandomForestRegressor_0ed25acb241f, numTrees=20, numFeatures=16, RandomForestRegressionModel: uid=RandomForestRegressor_0ed25acb241f, numTrees=50, numFeatures=16, RandomForestRegressionModel: uid=RandomForestRegressor_0ed25acb241f, numTrees=100, numFeatures=16, RandomForestRegressionModel: uid=RandomForestRegressor_0ed25acb241f, numTrees=500, numFeatures=16, RandomForestRegressionModel: uid=RandomForestRegressor_0ed25acb241f, numTrees=5, numFeatures=16, RandomForestRegressionModel: uid=RandomForestRegressor_0ed25acb241f, numTrees=20, numFeatures=16, RandomForestRegressionModel: uid=RandomForestRegressor_0ed25acb241f, numTrees=50, numFeatures=16, RandomForestRegressionModel: uid=RandomForestRegressor_0ed25acb241f, numTrees=100, numFeatures=16, RandomForestRegressionModel: uid=RandomForestRegressor_0ed25acb241f, numTrees=500, numFeatures=16, RandomForestRegressionModel: uid=RandomForestRegressor_0ed25acb241f, numTrees=5, numFeatures=16, RandomForestRegressionModel: uid=RandomForestRegressor_0ed25acb241f, numTrees=20, numFeatures=16, RandomForestRegressionModel: uid=RandomForestRegressor_0ed25acb241f, numTrees=50, numFeatures=16, RandomForestRegressionModel: uid=RandomForestRegressor_0ed25acb241f, numTrees=100, numFeatures=16, RandomForestRegressionModel: uid=RandomForestRegressor_0ed25acb241f, numTrees=500, numFeatures=16, RandomForestRegressionModel: uid=RandomForestRegressor_0ed25acb241f, numTrees=5, numFeatures=16, RandomForestRegressionModel: uid=RandomForestRegressor_0ed25acb241f, numTrees=20, numFeatures=16, RandomForestRegressionModel: uid=RandomForestRegressor_0ed25acb241f, numTrees=50, numFeatures=16, RandomForestRegressionModel: uid=RandomForestRegressor_0ed25acb241f, numTrees=100, numFeatures=16, RandomForestRegressionModel: uid=RandomForestRegressor_0ed25acb241f, numTrees=500, numFeatures=16, RandomForestRegressionModel: uid=RandomForestRegressor_0ed25acb241f, numTrees=5, numFeatures=16, RandomForestRegressionModel: uid=RandomForestRegressor_0ed25acb241f, numTrees=20, numFeatures=16, RandomForestRegressionModel: uid=RandomForestRegressor_0ed25acb241f, numTrees=50, numFeatures=16, RandomForestRegressionModel: uid=RandomForestRegressor_0ed25acb241f, numTrees=100, numFeatures=16, RandomForestRegressionModel: uid=RandomForestRegressor_0ed25acb241f, numTrees=500, numFeatures=16, RandomForestRegressionModel: uid=RandomForestRegressor_0ed25acb241f, numTrees=5, numFeatures=16, RandomForestRegressionModel: uid=RandomForestRegressor_0ed25acb241f, numTrees=20, numFeatures=16, RandomForestRegressionModel: uid=RandomForestRegressor_0ed25acb241f, numTrees=50, numFeatures=16, RandomForestRegressionModel: uid=RandomForestRegressor_0ed25acb241f, numTrees=100, numFeatures=16, RandomForestRegressionModel: uid=RandomForestRegressor_0ed25acb241f, numTrees=500, numFeatures=16, RandomForestRegressionModel: uid=RandomForestRegressor_0ed25acb241f, numTrees=5, numFeatures=16, RandomForestRegressionModel: uid=RandomForestRegressor_0ed25acb241f, numTrees=20, numFeatures=16, RandomForestRegressionModel: uid=RandomForestRegressor_0ed25acb241f, numTrees=50, numFeatures=16, RandomForestRegressionModel: uid=RandomForestRegressor_0ed25acb241f, numTrees=100, numFeatures=16, RandomForestRegressionModel: uid=RandomForestRegressor_0ed25acb241f, numTrees=500, numFeatures=16, RandomForestRegressionModel: uid=RandomForestRegressor_0ed25acb241f, numTrees=5, numFeatures=16, RandomForestRegressionModel: uid=RandomForestRegressor_0ed25acb241f, numTrees=20, numFeatures=16, RandomForestRegressionModel: uid=RandomForestRegressor_0ed25acb241f, numTrees=50, numFeatures=16, RandomForestRegressionModel: uid=RandomForestRegressor_0ed25acb241f, numTrees=100, numFeatures=16, RandomForestRegressionModel: uid=RandomForestRegressor_0ed25acb241f, numTrees=500, numFeatures=16, RandomForestRegressionModel: uid=RandomForestRegressor_0ed25acb241f, numTrees=5, numFeatures=16, RandomForestRegressionModel: uid=RandomForestRegressor_0ed25acb241f, numTrees=20, numFeatures=16, RandomForestRegressionModel: uid=RandomForestRegressor_0ed25acb241f, numTrees=50, numFeatures=16, RandomForestRegressionModel: uid=RandomForestRegressor_0ed25acb241f, numTrees=100, numFeatures=16, RandomForestRegressionModel: uid=RandomForestRegressor_0ed25acb241f, numTrees=500, numFeatures=16, RandomForestRegressionModel: uid=RandomForestRegressor_0ed25acb241f, numTrees=5, numFeatures=16, RandomForestRegressionModel: uid=RandomForestRegressor_0ed25acb241f, numTrees=20, numFeatures=16, RandomForestRegressionModel: uid=RandomForestRegressor_0ed25acb241f, numTrees=50, numFeatures=16, RandomForestRegressionModel: uid=RandomForestRegressor_0ed25acb241f, numTrees=100, numFeatures=16, RandomForestRegressionModel: uid=RandomForestRegressor_0ed25acb241f, numTrees=500, numFeatures=16, RandomForestRegressionModel: uid=RandomForestRegressor_0ed25acb241f, numTrees=5, numFeatures=16, RandomForestRegressionModel: uid=RandomForestRegressor_0ed25acb241f, numTrees=20, numFeatures=16, RandomForestRegressionModel: uid=RandomForestRegressor_0ed25acb241f, numTrees=50, numFeatures=16, RandomForestRegressionModel: uid=RandomForestRegressor_0ed25acb241f, numTrees=100, numFeatures=16, RandomForestRegressionModel: uid=RandomForestRegressor_0ed25acb241f, numTrees=500, numFeatures=16, RandomForestRegressionModel: uid=RandomForestRegressor_0ed25acb241f, numTrees=5, numFeatures=16, RandomForestRegressionModel: uid=RandomForestRegressor_0ed25acb241f, numTrees=20, numFeatures=16, RandomForestRegressionModel: uid=RandomForestRegressor_0ed25acb241f, numTrees=50, numFeatures=16, RandomForestRegressionModel: uid=RandomForestRegressor_0ed25acb241f, numTrees=100, numFeatures=16, RandomForestRegressionModel: uid=RandomForestRegressor_0ed25acb241f, numTrees=500, numFeatures=16, RandomForestRegressionModel: uid=RandomForestRegressor_0ed25acb241f, numTrees=5, numFeatures=16, RandomForestRegressionModel: uid=RandomForestRegressor_0ed25acb241f, numTrees=20, numFeatures=16, RandomForestRegressionModel: uid=RandomForestRegressor_0ed25acb241f, numTrees=50, numFeatures=16, RandomForestRegressionModel: uid=RandomForestRegressor_0ed25acb241f, numTrees=100, numFeatures=16, RandomForestRegressionModel: uid=RandomForestRegressor_0ed25acb241f, numTrees=500, numFeatures=16, RandomForestRegressionModel: uid=RandomForestRegressor_0ed25acb241f, numTrees=5, numFeatures=16, RandomForestRegressionModel: uid=RandomForestRegressor_0ed25acb241f, numTrees=20, numFeatures=16, RandomForestRegressionModel: uid=RandomForestRegressor_0ed25acb241f, numTrees=50, numFeatures=16, RandomForestRegressionModel: uid=RandomForestRegressor_0ed25acb241f, numTrees=100, numFeatures=16, RandomForestRegressionModel: uid=RandomForestRegressor_0ed25acb241f, numTrees=500, numFeatures=16, RandomForestRegressionModel: uid=RandomForestRegressor_0ed25acb241f, numTrees=5, numFeatures=16, RandomForestRegressionModel: uid=RandomForestRegressor_0ed25acb241f, numTrees=20, numFeatures=16, RandomForestRegressionModel: uid=RandomForestRegressor_0ed25acb241f, numTrees=50, numFeatures=16, RandomForestRegressionModel: uid=RandomForestRegressor_0ed25acb241f, numTrees=100, numFeatures=16, RandomForestRegressionModel: uid=RandomForestRegressor_0ed25acb241f, numTrees=500, numFeatures=16, RandomForestRegressionModel: uid=RandomForestRegressor_0ed25acb241f, numTrees=5, numFeatures=16, RandomForestRegressionModel: uid=RandomForestRegressor_0ed25acb241f, numTrees=20, numFeatures=16, RandomForestRegressionModel: uid=RandomForestRegressor_0ed25acb241f, numTrees=50, numFeatures=16, RandomForestRegressionModel: uid=RandomForestRegressor_0ed25acb241f, numTrees=100, numFeatures=16, RandomForestRegressionModel: uid=RandomForestRegressor_0ed25acb241f, numTrees=500, numFeatures=16, RandomForestRegressionModel: uid=RandomForestRegressor_0ed25acb241f, numTrees=5, numFeatures=16, RandomForestRegressionModel: uid=RandomForestRegressor_0ed25acb241f, numTrees=20, numFeatures=16, RandomForestRegressionModel: uid=RandomForestRegressor_0ed25acb241f, numTrees=50, numFeatures=16, RandomForestRegressionModel: uid=RandomForestRegressor_0ed25acb241f, numTrees=100, numFeatures=16, RandomForestRegressionModel: uid=RandomForestRegressor_0ed25acb241f, numTrees=500, numFeatures=16, RandomForestRegressionModel: uid=RandomForestRegressor_0ed25acb241f, numTrees=5, numFeatures=16, RandomForestRegressionModel: uid=RandomForestRegressor_0ed25acb241f, numTrees=20, numFeatures=16, RandomForestRegressionModel: uid=RandomForestRegressor_0ed25acb241f, numTrees=50, numFeatures=16, RandomForestRegressionModel: uid=RandomForestRegressor_0ed25acb241f, numTrees=100, numFeatures=16, RandomForestRegressionModel: uid=RandomForestRegressor_0ed25acb241f, numTrees=500, numFeatures=16, RandomForestRegressionModel: uid=RandomForestRegressor_0ed25acb241f, numTrees=5, numFeatures=16, RandomForestRegressionModel: uid=RandomForestRegressor_0ed25acb241f, numTrees=20, numFeatures=16, RandomForestRegressionModel: uid=RandomForestRegressor_0ed25acb241f, numTrees=50, numFeatures=16, RandomForestRegressionModel: uid=RandomForestRegressor_0ed25acb241f, numTrees=100, numFeatures=16, RandomForestRegressionModel: uid=RandomForestRegressor_0ed25acb241f, numTrees=500, numFeatures=16, RandomForestRegressionModel: uid=RandomForestRegressor_0ed25acb241f, numTrees=5, numFeatures=16, RandomForestRegressionModel: uid=RandomForestRegressor_0ed25acb241f, numTrees=20, numFeatures=16, RandomForestRegressionModel: uid=RandomForestRegressor_0ed25acb241f, numTrees=50, numFeatures=16, RandomForestRegressionModel: uid=RandomForestRegressor_0ed25acb241f, numTrees=100, numFeatures=16, RandomForestRegressionModel: uid=RandomForestRegressor_0ed25acb241f, numTrees=500, numFeatures=16, RandomForestRegressionModel: uid=RandomForestRegressor_0ed25acb241f, numTrees=5, numFeatures=16, RandomForestRegressionModel: uid=RandomForestRegressor_0ed25acb241f, numTrees=20, numFeatures=16, RandomForestRegressionModel: uid=RandomForestRegressor_0ed25acb241f, numTrees=50, numFeatures=16, RandomForestRegressionModel: uid=RandomForestRegressor_0ed25acb241f, numTrees=100, numFeatures=16, RandomForestRegressionModel: uid=RandomForestRegressor_0ed25acb241f, numTrees=500, numFeatures=16, RandomForestRegressionModel: uid=RandomForestRegressor_0ed25acb241f, numTrees=5, numFeatures=16, RandomForestRegressionModel: uid=RandomForestRegressor_0ed25acb241f, numTrees=20, numFeatures=16, RandomForestRegressionModel: uid=RandomForestRegressor_0ed25acb241f, numTrees=50, numFeatures=16, RandomForestRegressionModel: uid=RandomForestRegressor_0ed25acb241f, numTrees=100, numFeatures=16, RandomForestRegressionModel: uid=RandomForestRegressor_0ed25acb241f, numTrees=500, numFeatures=16, RandomForestRegressionModel: uid=RandomForestRegressor_0ed25acb241f, numTrees=5, numFeatures=16, RandomForestRegressionModel: uid=RandomForestRegressor_0ed25acb241f, numTrees=20, numFeatures=16, RandomForestRegressionModel: uid=RandomForestRegressor_0ed25acb241f, numTrees=50, numFeatures=16, RandomForestRegressionModel: uid=RandomForestRegressor_0ed25acb241f, numTrees=100, numFeatures=16, RandomForestRegressionModel: uid=RandomForestRegressor_0ed25acb241f, numTrees=500, numFeatures=16, RandomForestRegressionModel: uid=RandomForestRegressor_0ed25acb241f, numTrees=5, numFeatures=16, RandomForestRegressionModel: uid=RandomForestRegressor_0ed25acb241f, numTrees=20, numFeatures=16, RandomForestRegressionModel: uid=RandomForestRegressor_0ed25acb241f, numTrees=50, numFeatures=16, RandomForestRegressionModel: uid=RandomForestRegressor_0ed25acb241f, numTrees=100, numFeatures=16, RandomForestRegressionModel: uid=RandomForestRegressor_0ed25acb241f, numTrees=500, numFeatures=16, RandomForestRegressionModel: uid=RandomForestRegressor_0ed25acb241f, numTrees=5, numFeatures=16, RandomForestRegressionModel: uid=RandomForestRegressor_0ed25acb241f, numTrees=20, numFeatures=16, RandomForestRegressionModel: uid=RandomForestRegressor_0ed25acb241f, numTrees=50, numFeatures=16, RandomForestRegressionModel: uid=RandomForestRegressor_0ed25acb241f, numTrees=100, numFeatures=16, RandomForestRegressionModel: uid=RandomForestRegressor_0ed25acb241f, numTrees=500, numFeatures=16], [RandomForestRegressionModel: uid=RandomForestRegressor_0ed25acb241f, numTrees=5, numFeatures=16, RandomForestRegressionModel: uid=RandomForestRegressor_0ed25acb241f, numTrees=20, numFeatures=16, RandomForestRegressionModel: uid=RandomForestRegressor_0ed25acb241f, numTrees=50, numFeatures=16, RandomForestRegressionModel: uid=RandomForestRegressor_0ed25acb241f, numTrees=100, numFeatures=16, RandomForestRegressionModel: uid=RandomForestRegressor_0ed25acb241f, numTrees=500, numFeatures=16, RandomForestRegressionModel: uid=RandomForestRegressor_0ed25acb241f, numTrees=5, numFeatures=16, RandomForestRegressionModel: uid=RandomForestRegressor_0ed25acb241f, numTrees=20, numFeatures=16, RandomForestRegressionModel: uid=RandomForestRegressor_0ed25acb241f, numTrees=50, numFeatures=16, RandomForestRegressionModel: uid=RandomForestRegressor_0ed25acb241f, numTrees=100, numFeatures=16, RandomForestRegressionModel: uid=RandomForestRegressor_0ed25acb241f, numTrees=500, numFeatures=16, RandomForestRegressionModel: uid=RandomForestRegressor_0ed25acb241f, numTrees=5, numFeatures=16, RandomForestRegressionModel: uid=RandomForestRegressor_0ed25acb241f, numTrees=20, numFeatures=16, RandomForestRegressionModel: uid=RandomForestRegressor_0ed25acb241f, numTrees=50, numFeatures=16, RandomForestRegressionModel: uid=RandomForestRegressor_0ed25acb241f, numTrees=100, numFeatures=16, RandomForestRegressionModel: uid=RandomForestRegressor_0ed25acb241f, numTrees=500, numFeatures=16, RandomForestRegressionModel: uid=RandomForestRegressor_0ed25acb241f, numTrees=5, numFeatures=16, RandomForestRegressionModel: uid=RandomForestRegressor_0ed25acb241f, numTrees=20, numFeatures=16, RandomForestRegressionModel: uid=RandomForestRegressor_0ed25acb241f, numTrees=50, numFeatures=16, RandomForestRegressionModel: uid=RandomForestRegressor_0ed25acb241f, numTrees=100, numFeatures=16, RandomForestRegressionModel: uid=RandomForestRegressor_0ed25acb241f, numTrees=500, numFeatures=16, RandomForestRegressionModel: uid=RandomForestRegressor_0ed25acb241f, numTrees=5, numFeatures=16, RandomForestRegressionModel: uid=RandomForestRegressor_0ed25acb241f, numTrees=20, numFeatures=16, RandomForestRegressionModel: uid=RandomForestRegressor_0ed25acb241f, numTrees=50, numFeatures=16, RandomForestRegressionModel: uid=RandomForestRegressor_0ed25acb241f, numTrees=100, numFeatures=16, RandomForestRegressionModel: uid=RandomForestRegressor_0ed25acb241f, numTrees=500, numFeatures=16, RandomForestRegressionModel: uid=RandomForestRegressor_0ed25acb241f, numTrees=5, numFeatures=16, RandomForestRegressionModel: uid=RandomForestRegressor_0ed25acb241f, numTrees=20, numFeatures=16, RandomForestRegressionModel: uid=RandomForestRegressor_0ed25acb241f, numTrees=50, numFeatures=16, RandomForestRegressionModel: uid=RandomForestRegressor_0ed25acb241f, numTrees=100, numFeatures=16, RandomForestRegressionModel: uid=RandomForestRegressor_0ed25acb241f, numTrees=500, numFeatures=16, RandomForestRegressionModel: uid=RandomForestRegressor_0ed25acb241f, numTrees=5, numFeatures=16, RandomForestRegressionModel: uid=RandomForestRegressor_0ed25acb241f, numTrees=20, numFeatures=16, RandomForestRegressionModel: uid=RandomForestRegressor_0ed25acb241f, numTrees=50, numFeatures=16, RandomForestRegressionModel: uid=RandomForestRegressor_0ed25acb241f, numTrees=100, numFeatures=16, RandomForestRegressionModel: uid=RandomForestRegressor_0ed25acb241f, numTrees=500, numFeatures=16, RandomForestRegressionModel: uid=RandomForestRegressor_0ed25acb241f, numTrees=5, numFeatures=16, RandomForestRegressionModel: uid=RandomForestRegressor_0ed25acb241f, numTrees=20, numFeatures=16, RandomForestRegressionModel: uid=RandomForestRegressor_0ed25acb241f, numTrees=50, numFeatures=16, RandomForestRegressionModel: uid=RandomForestRegressor_0ed25acb241f, numTrees=100, numFeatures=16, RandomForestRegressionModel: uid=RandomForestRegressor_0ed25acb241f, numTrees=500, numFeatures=16, RandomForestRegressionModel: uid=RandomForestRegressor_0ed25acb241f, numTrees=5, numFeatures=16, RandomForestRegressionModel: uid=RandomForestRegressor_0ed25acb241f, numTrees=20, numFeatures=16, RandomForestRegressionModel: uid=RandomForestRegressor_0ed25acb241f, numTrees=50, numFeatures=16, RandomForestRegressionModel: uid=RandomForestRegressor_0ed25acb241f, numTrees=100, numFeatures=16, RandomForestRegressionModel: uid=RandomForestRegressor_0ed25acb241f, numTrees=500, numFeatures=16, RandomForestRegressionModel: uid=RandomForestRegressor_0ed25acb241f, numTrees=5, numFeatures=16, RandomForestRegressionModel: uid=RandomForestRegressor_0ed25acb241f, numTrees=20, numFeatures=16, RandomForestRegressionModel: uid=RandomForestRegressor_0ed25acb241f, numTrees=50, numFeatures=16, RandomForestRegressionModel: uid=RandomForestRegressor_0ed25acb241f, numTrees=100, numFeatures=16, RandomForestRegressionModel: uid=RandomForestRegressor_0ed25acb241f, numTrees=500, numFeatures=16, RandomForestRegressionModel: uid=RandomForestRegressor_0ed25acb241f, numTrees=5, numFeatures=16, RandomForestRegressionModel: uid=RandomForestRegressor_0ed25acb241f, numTrees=20, numFeatures=16, RandomForestRegressionModel: uid=RandomForestRegressor_0ed25acb241f, numTrees=50, numFeatures=16, RandomForestRegressionModel: uid=RandomForestRegressor_0ed25acb241f, numTrees=100, numFeatures=16, RandomForestRegressionModel: uid=RandomForestRegressor_0ed25acb241f, numTrees=500, numFeatures=16, RandomForestRegressionModel: uid=RandomForestRegressor_0ed25acb241f, numTrees=5, numFeatures=16, RandomForestRegressionModel: uid=RandomForestRegressor_0ed25acb241f, numTrees=20, numFeatures=16, RandomForestRegressionModel: uid=RandomForestRegressor_0ed25acb241f, numTrees=50, numFeatures=16, RandomForestRegressionModel: uid=RandomForestRegressor_0ed25acb241f, numTrees=100, numFeatures=16, RandomForestRegressionModel: uid=RandomForestRegressor_0ed25acb241f, numTrees=500, numFeatures=16, RandomForestRegressionModel: uid=RandomForestRegressor_0ed25acb241f, numTrees=5, numFeatures=16, RandomForestRegressionModel: uid=RandomForestRegressor_0ed25acb241f, numTrees=20, numFeatures=16, RandomForestRegressionModel: uid=RandomForestRegressor_0ed25acb241f, numTrees=50, numFeatures=16, RandomForestRegressionModel: uid=RandomForestRegressor_0ed25acb241f, numTrees=100, numFeatures=16, RandomForestRegressionModel: uid=RandomForestRegressor_0ed25acb241f, numTrees=500, numFeatures=16, RandomForestRegressionModel: uid=RandomForestRegressor_0ed25acb241f, numTrees=5, numFeatures=16, RandomForestRegressionModel: uid=RandomForestRegressor_0ed25acb241f, numTrees=20, numFeatures=16, RandomForestRegressionModel: uid=RandomForestRegressor_0ed25acb241f, numTrees=50, numFeatures=16, RandomForestRegressionModel: uid=RandomForestRegressor_0ed25acb241f, numTrees=100, numFeatures=16, RandomForestRegressionModel: uid=RandomForestRegressor_0ed25acb241f, numTrees=500, numFeatures=16, RandomForestRegressionModel: uid=RandomForestRegressor_0ed25acb241f, numTrees=5, numFeatures=16, RandomForestRegressionModel: uid=RandomForestRegressor_0ed25acb241f, numTrees=20, numFeatures=16, RandomForestRegressionModel: uid=RandomForestRegressor_0ed25acb241f, numTrees=50, numFeatures=16, RandomForestRegressionModel: uid=RandomForestRegressor_0ed25acb241f, numTrees=100, numFeatures=16, RandomForestRegressionModel: uid=RandomForestRegressor_0ed25acb241f, numTrees=500, numFeatures=16, RandomForestRegressionModel: uid=RandomForestRegressor_0ed25acb241f, numTrees=5, numFeatures=16, RandomForestRegressionModel: uid=RandomForestRegressor_0ed25acb241f, numTrees=20, numFeatures=16, RandomForestRegressionModel: uid=RandomForestRegressor_0ed25acb241f, numTrees=50, numFeatures=16, RandomForestRegressionModel: uid=RandomForestRegressor_0ed25acb241f, numTrees=100, numFeatures=16, RandomForestRegressionModel: uid=RandomForestRegressor_0ed25acb241f, numTrees=500, numFeatures=16, RandomForestRegressionModel: uid=RandomForestRegressor_0ed25acb241f, numTrees=5, numFeatures=16, RandomForestRegressionModel: uid=RandomForestRegressor_0ed25acb241f, numTrees=20, numFeatures=16, RandomForestRegressionModel: uid=RandomForestRegressor_0ed25acb241f, numTrees=50, numFeatures=16, RandomForestRegressionModel: uid=RandomForestRegressor_0ed25acb241f, numTrees=100, numFeatures=16, RandomForestRegressionModel: uid=RandomForestRegressor_0ed25acb241f, numTrees=500, numFeatures=16, RandomForestRegressionModel: uid=RandomForestRegressor_0ed25acb241f, numTrees=5, numFeatures=16, RandomForestRegressionModel: uid=RandomForestRegressor_0ed25acb241f, numTrees=20, numFeatures=16, RandomForestRegressionModel: uid=RandomForestRegressor_0ed25acb241f, numTrees=50, numFeatures=16, RandomForestRegressionModel: uid=RandomForestRegressor_0ed25acb241f, numTrees=100, numFeatures=16, RandomForestRegressionModel: uid=RandomForestRegressor_0ed25acb241f, numTrees=500, numFeatures=16, RandomForestRegressionModel: uid=RandomForestRegressor_0ed25acb241f, numTrees=5, numFeatures=16, RandomForestRegressionModel: uid=RandomForestRegressor_0ed25acb241f, numTrees=20, numFeatures=16, RandomForestRegressionModel: uid=RandomForestRegressor_0ed25acb241f, numTrees=50, numFeatures=16, RandomForestRegressionModel: uid=RandomForestRegressor_0ed25acb241f, numTrees=100, numFeatures=16, RandomForestRegressionModel: uid=RandomForestRegressor_0ed25acb241f, numTrees=500, numFeatures=16, RandomForestRegressionModel: uid=RandomForestRegressor_0ed25acb241f, numTrees=5, numFeatures=16, RandomForestRegressionModel: uid=RandomForestRegressor_0ed25acb241f, numTrees=20, numFeatures=16, RandomForestRegressionModel: uid=RandomForestRegressor_0ed25acb241f, numTrees=50, numFeatures=16, RandomForestRegressionModel: uid=RandomForestRegressor_0ed25acb241f, numTrees=100, numFeatures=16, RandomForestRegressionModel: uid=RandomForestRegressor_0ed25acb241f, numTrees=500, numFeatures=16, RandomForestRegressionModel: uid=RandomForestRegressor_0ed25acb241f, numTrees=5, numFeatures=16, RandomForestRegressionModel: uid=RandomForestRegressor_0ed25acb241f, numTrees=20, numFeatures=16, RandomForestRegressionModel: uid=RandomForestRegressor_0ed25acb241f, numTrees=50, numFeatures=16, RandomForestRegressionModel: uid=RandomForestRegressor_0ed25acb241f, numTrees=100, numFeatures=16, RandomForestRegressionModel: uid=RandomForestRegressor_0ed25acb241f, numTrees=500, numFeatures=16, RandomForestRegressionModel: uid=RandomForestRegressor_0ed25acb241f, numTrees=5, numFeatures=16, RandomForestRegressionModel: uid=RandomForestRegressor_0ed25acb241f, numTrees=20, numFeatures=16, RandomForestRegressionModel: uid=RandomForestRegressor_0ed25acb241f, numTrees=50, numFeatures=16, RandomForestRegressionModel: uid=RandomForestRegressor_0ed25acb241f, numTrees=100, numFeatures=16, RandomForestRegressionModel: uid=RandomForestRegressor_0ed25acb241f, numTrees=500, numFeatures=16, RandomForestRegressionModel: uid=RandomForestRegressor_0ed25acb241f, numTrees=5, numFeatures=16, RandomForestRegressionModel: uid=RandomForestRegressor_0ed25acb241f, numTrees=20, numFeatures=16, RandomForestRegressionModel: uid=RandomForestRegressor_0ed25acb241f, numTrees=50, numFeatures=16, RandomForestRegressionModel: uid=RandomForestRegressor_0ed25acb241f, numTrees=100, numFeatures=16, RandomForestRegressionModel: uid=RandomForestRegressor_0ed25acb241f, numTrees=500, numFeatures=16, RandomForestRegressionModel: uid=RandomForestRegressor_0ed25acb241f, numTrees=5, numFeatures=16, RandomForestRegressionModel: uid=RandomForestRegressor_0ed25acb241f, numTrees=20, numFeatures=16, RandomForestRegressionModel: uid=RandomForestRegressor_0ed25acb241f, numTrees=50, numFeatures=16, RandomForestRegressionModel: uid=RandomForestRegressor_0ed25acb241f, numTrees=100, numFeatures=16, RandomForestRegressionModel: uid=RandomForestRegressor_0ed25acb241f, numTrees=500, numFeatures=16, RandomForestRegressionModel: uid=RandomForestRegressor_0ed25acb241f, numTrees=5, numFeatures=16, RandomForestRegressionModel: uid=RandomForestRegressor_0ed25acb241f, numTrees=20, numFeatures=16, RandomForestRegressionModel: uid=RandomForestRegressor_0ed25acb241f, numTrees=50, numFeatures=16, RandomForestRegressionModel: uid=RandomForestRegressor_0ed25acb241f, numTrees=100, numFeatures=16, RandomForestRegressionModel: uid=RandomForestRegressor_0ed25acb241f, numTrees=500, numFeatures=16], [RandomForestRegressionModel: uid=RandomForestRegressor_0ed25acb241f, numTrees=5, numFeatures=16, RandomForestRegressionModel: uid=RandomForestRegressor_0ed25acb241f, numTrees=20, numFeatures=16, RandomForestRegressionModel: uid=RandomForestRegressor_0ed25acb241f, numTrees=50, numFeatures=16, RandomForestRegressionModel: uid=RandomForestRegressor_0ed25acb241f, numTrees=100, numFeatures=16, RandomForestRegressionModel: uid=RandomForestRegressor_0ed25acb241f, numTrees=500, numFeatures=16, RandomForestRegressionModel: uid=RandomForestRegressor_0ed25acb241f, numTrees=5, numFeatures=16, RandomForestRegressionModel: uid=RandomForestRegressor_0ed25acb241f, numTrees=20, numFeatures=16, RandomForestRegressionModel: uid=RandomForestRegressor_0ed25acb241f, numTrees=50, numFeatures=16, RandomForestRegressionModel: uid=RandomForestRegressor_0ed25acb241f, numTrees=100, numFeatures=16, RandomForestRegressionModel: uid=RandomForestRegressor_0ed25acb241f, numTrees=500, numFeatures=16, RandomForestRegressionModel: uid=RandomForestRegressor_0ed25acb241f, numTrees=5, numFeatures=16, RandomForestRegressionModel: uid=RandomForestRegressor_0ed25acb241f, numTrees=20, numFeatures=16, RandomForestRegressionModel: uid=RandomForestRegressor_0ed25acb241f, numTrees=50, numFeatures=16, RandomForestRegressionModel: uid=RandomForestRegressor_0ed25acb241f, numTrees=100, numFeatures=16, RandomForestRegressionModel: uid=RandomForestRegressor_0ed25acb241f, numTrees=500, numFeatures=16, RandomForestRegressionModel: uid=RandomForestRegressor_0ed25acb241f, numTrees=5, numFeatures=16, RandomForestRegressionModel: uid=RandomForestRegressor_0ed25acb241f, numTrees=20, numFeatures=16, RandomForestRegressionModel: uid=RandomForestRegressor_0ed25acb241f, numTrees=50, numFeatures=16, RandomForestRegressionModel: uid=RandomForestRegressor_0ed25acb241f, numTrees=100, numFeatures=16, RandomForestRegressionModel: uid=RandomForestRegressor_0ed25acb241f, numTrees=500, numFeatures=16, RandomForestRegressionModel: uid=RandomForestRegressor_0ed25acb241f, numTrees=5, numFeatures=16, RandomForestRegressionModel: uid=RandomForestRegressor_0ed25acb241f, numTrees=20, numFeatures=16, RandomForestRegressionModel: uid=RandomForestRegressor_0ed25acb241f, numTrees=50, numFeatures=16, RandomForestRegressionModel: uid=RandomForestRegressor_0ed25acb241f, numTrees=100, numFeatures=16, RandomForestRegressionModel: uid=RandomForestRegressor_0ed25acb241f, numTrees=500, numFeatures=16, RandomForestRegressionModel: uid=RandomForestRegressor_0ed25acb241f, numTrees=5, numFeatures=16, RandomForestRegressionModel: uid=RandomForestRegressor_0ed25acb241f, numTrees=20, numFeatures=16, RandomForestRegressionModel: uid=RandomForestRegressor_0ed25acb241f, numTrees=50, numFeatures=16, RandomForestRegressionModel: uid=RandomForestRegressor_0ed25acb241f, numTrees=100, numFeatures=16, RandomForestRegressionModel: uid=RandomForestRegressor_0ed25acb241f, numTrees=500, numFeatures=16, RandomForestRegressionModel: uid=RandomForestRegressor_0ed25acb241f, numTrees=5, numFeatures=16, RandomForestRegressionModel: uid=RandomForestRegressor_0ed25acb241f, numTrees=20, numFeatures=16, RandomForestRegressionModel: uid=RandomForestRegressor_0ed25acb241f, numTrees=50, numFeatures=16, RandomForestRegressionModel: uid=RandomForestRegressor_0ed25acb241f, numTrees=100, numFeatures=16, RandomForestRegressionModel: uid=RandomForestRegressor_0ed25acb241f, numTrees=500, numFeatures=16, RandomForestRegressionModel: uid=RandomForestRegressor_0ed25acb241f, numTrees=5, numFeatures=16, RandomForestRegressionModel: uid=RandomForestRegressor_0ed25acb241f, numTrees=20, numFeatures=16, RandomForestRegressionModel: uid=RandomForestRegressor_0ed25acb241f, numTrees=50, numFeatures=16, RandomForestRegressionModel: uid=RandomForestRegressor_0ed25acb241f, numTrees=100, numFeatures=16, RandomForestRegressionModel: uid=RandomForestRegressor_0ed25acb241f, numTrees=500, numFeatures=16, RandomForestRegressionModel: uid=RandomForestRegressor_0ed25acb241f, numTrees=5, numFeatures=16, RandomForestRegressionModel: uid=RandomForestRegressor_0ed25acb241f, numTrees=20, numFeatures=16, RandomForestRegressionModel: uid=RandomForestRegressor_0ed25acb241f, numTrees=50, numFeatures=16, RandomForestRegressionModel: uid=RandomForestRegressor_0ed25acb241f, numTrees=100, numFeatures=16, RandomForestRegressionModel: uid=RandomForestRegressor_0ed25acb241f, numTrees=500, numFeatures=16, RandomForestRegressionModel: uid=RandomForestRegressor_0ed25acb241f, numTrees=5, numFeatures=16, RandomForestRegressionModel: uid=RandomForestRegressor_0ed25acb241f, numTrees=20, numFeatures=16, RandomForestRegressionModel: uid=RandomForestRegressor_0ed25acb241f, numTrees=50, numFeatures=16, RandomForestRegressionModel: uid=RandomForestRegressor_0ed25acb241f, numTrees=100, numFeatures=16, RandomForestRegressionModel: uid=RandomForestRegressor_0ed25acb241f, numTrees=500, numFeatures=16, RandomForestRegressionModel: uid=RandomForestRegressor_0ed25acb241f, numTrees=5, numFeatures=16, RandomForestRegressionModel: uid=RandomForestRegressor_0ed25acb241f, numTrees=20, numFeatures=16, RandomForestRegressionModel: uid=RandomForestRegressor_0ed25acb241f, numTrees=50, numFeatures=16, RandomForestRegressionModel: uid=RandomForestRegressor_0ed25acb241f, numTrees=100, numFeatures=16, RandomForestRegressionModel: uid=RandomForestRegressor_0ed25acb241f, numTrees=500, numFeatures=16, RandomForestRegressionModel: uid=RandomForestRegressor_0ed25acb241f, numTrees=5, numFeatures=16, RandomForestRegressionModel: uid=RandomForestRegressor_0ed25acb241f, numTrees=20, numFeatures=16, RandomForestRegressionModel: uid=RandomForestRegressor_0ed25acb241f, numTrees=50, numFeatures=16, RandomForestRegressionModel: uid=RandomForestRegressor_0ed25acb241f, numTrees=100, numFeatures=16, RandomForestRegressionModel: uid=RandomForestRegressor_0ed25acb241f, numTrees=500, numFeatures=16, RandomForestRegressionModel: uid=RandomForestRegressor_0ed25acb241f, numTrees=5, numFeatures=16, RandomForestRegressionModel: uid=RandomForestRegressor_0ed25acb241f, numTrees=20, numFeatures=16, RandomForestRegressionModel: uid=RandomForestRegressor_0ed25acb241f, numTrees=50, numFeatures=16, RandomForestRegressionModel: uid=RandomForestRegressor_0ed25acb241f, numTrees=100, numFeatures=16, RandomForestRegressionModel: uid=RandomForestRegressor_0ed25acb241f, numTrees=500, numFeatures=16, RandomForestRegressionModel: uid=RandomForestRegressor_0ed25acb241f, numTrees=5, numFeatures=16, RandomForestRegressionModel: uid=RandomForestRegressor_0ed25acb241f, numTrees=20, numFeatures=16, RandomForestRegressionModel: uid=RandomForestRegressor_0ed25acb241f, numTrees=50, numFeatures=16, RandomForestRegressionModel: uid=RandomForestRegressor_0ed25acb241f, numTrees=100, numFeatures=16, RandomForestRegressionModel: uid=RandomForestRegressor_0ed25acb241f, numTrees=500, numFeatures=16, RandomForestRegressionModel: uid=RandomForestRegressor_0ed25acb241f, numTrees=5, numFeatures=16, RandomForestRegressionModel: uid=RandomForestRegressor_0ed25acb241f, numTrees=20, numFeatures=16, RandomForestRegressionModel: uid=RandomForestRegressor_0ed25acb241f, numTrees=50, numFeatures=16, RandomForestRegressionModel: uid=RandomForestRegressor_0ed25acb241f, numTrees=100, numFeatures=16, RandomForestRegressionModel: uid=RandomForestRegressor_0ed25acb241f, numTrees=500, numFeatures=16, RandomForestRegressionModel: uid=RandomForestRegressor_0ed25acb241f, numTrees=5, numFeatures=16, RandomForestRegressionModel: uid=RandomForestRegressor_0ed25acb241f, numTrees=20, numFeatures=16, RandomForestRegressionModel: uid=RandomForestRegressor_0ed25acb241f, numTrees=50, numFeatures=16, RandomForestRegressionModel: uid=RandomForestRegressor_0ed25acb241f, numTrees=100, numFeatures=16, RandomForestRegressionModel: uid=RandomForestRegressor_0ed25acb241f, numTrees=500, numFeatures=16, RandomForestRegressionModel: uid=RandomForestRegressor_0ed25acb241f, numTrees=5, numFeatures=16, RandomForestRegressionModel: uid=RandomForestRegressor_0ed25acb241f, numTrees=20, numFeatures=16, RandomForestRegressionModel: uid=RandomForestRegressor_0ed25acb241f, numTrees=50, numFeatures=16, RandomForestRegressionModel: uid=RandomForestRegressor_0ed25acb241f, numTrees=100, numFeatures=16, RandomForestRegressionModel: uid=RandomForestRegressor_0ed25acb241f, numTrees=500, numFeatures=16, RandomForestRegressionModel: uid=RandomForestRegressor_0ed25acb241f, numTrees=5, numFeatures=16, RandomForestRegressionModel: uid=RandomForestRegressor_0ed25acb241f, numTrees=20, numFeatures=16, RandomForestRegressionModel: uid=RandomForestRegressor_0ed25acb241f, numTrees=50, numFeatures=16, RandomForestRegressionModel: uid=RandomForestRegressor_0ed25acb241f, numTrees=100, numFeatures=16, RandomForestRegressionModel: uid=RandomForestRegressor_0ed25acb241f, numTrees=500, numFeatures=16, RandomForestRegressionModel: uid=RandomForestRegressor_0ed25acb241f, numTrees=5, numFeatures=16, RandomForestRegressionModel: uid=RandomForestRegressor_0ed25acb241f, numTrees=20, numFeatures=16, RandomForestRegressionModel: uid=RandomForestRegressor_0ed25acb241f, numTrees=50, numFeatures=16, RandomForestRegressionModel: uid=RandomForestRegressor_0ed25acb241f, numTrees=100, numFeatures=16, RandomForestRegressionModel: uid=RandomForestRegressor_0ed25acb241f, numTrees=500, numFeatures=16, RandomForestRegressionModel: uid=RandomForestRegressor_0ed25acb241f, numTrees=5, numFeatures=16, RandomForestRegressionModel: uid=RandomForestRegressor_0ed25acb241f, numTrees=20, numFeatures=16, RandomForestRegressionModel: uid=RandomForestRegressor_0ed25acb241f, numTrees=50, numFeatures=16, RandomForestRegressionModel: uid=RandomForestRegressor_0ed25acb241f, numTrees=100, numFeatures=16, RandomForestRegressionModel: uid=RandomForestRegressor_0ed25acb241f, numTrees=500, numFeatures=16, RandomForestRegressionModel: uid=RandomForestRegressor_0ed25acb241f, numTrees=5, numFeatures=16, RandomForestRegressionModel: uid=RandomForestRegressor_0ed25acb241f, numTrees=20, numFeatures=16, RandomForestRegressionModel: uid=RandomForestRegressor_0ed25acb241f, numTrees=50, numFeatures=16, RandomForestRegressionModel: uid=RandomForestRegressor_0ed25acb241f, numTrees=100, numFeatures=16, RandomForestRegressionModel: uid=RandomForestRegressor_0ed25acb241f, numTrees=500, numFeatures=16, RandomForestRegressionModel: uid=RandomForestRegressor_0ed25acb241f, numTrees=5, numFeatures=16, RandomForestRegressionModel: uid=RandomForestRegressor_0ed25acb241f, numTrees=20, numFeatures=16, RandomForestRegressionModel: uid=RandomForestRegressor_0ed25acb241f, numTrees=50, numFeatures=16, RandomForestRegressionModel: uid=RandomForestRegressor_0ed25acb241f, numTrees=100, numFeatures=16, RandomForestRegressionModel: uid=RandomForestRegressor_0ed25acb241f, numTrees=500, numFeatures=16, RandomForestRegressionModel: uid=RandomForestRegressor_0ed25acb241f, numTrees=5, numFeatures=16, RandomForestRegressionModel: uid=RandomForestRegressor_0ed25acb241f, numTrees=20, numFeatures=16, RandomForestRegressionModel: uid=RandomForestRegressor_0ed25acb241f, numTrees=50, numFeatures=16, RandomForestRegressionModel: uid=RandomForestRegressor_0ed25acb241f, numTrees=100, numFeatures=16, RandomForestRegressionModel: uid=RandomForestRegressor_0ed25acb241f, numTrees=500, numFeatures=16, RandomForestRegressionModel: uid=RandomForestRegressor_0ed25acb241f, numTrees=5, numFeatures=16, RandomForestRegressionModel: uid=RandomForestRegressor_0ed25acb241f, numTrees=20, numFeatures=16, RandomForestRegressionModel: uid=RandomForestRegressor_0ed25acb241f, numTrees=50, numFeatures=16, RandomForestRegressionModel: uid=RandomForestRegressor_0ed25acb241f, numTrees=100, numFeatures=16, RandomForestRegressionModel: uid=RandomForestRegressor_0ed25acb241f, numTrees=500, numFeatures=16, RandomForestRegressionModel: uid=RandomForestRegressor_0ed25acb241f, numTrees=5, numFeatures=16, RandomForestRegressionModel: uid=RandomForestRegressor_0ed25acb241f, numTrees=20, numFeatures=16, RandomForestRegressionModel: uid=RandomForestRegressor_0ed25acb241f, numTrees=50, numFeatures=16, RandomForestRegressionModel: uid=RandomForestRegressor_0ed25acb241f, numTrees=100, numFeatures=16, RandomForestRegressionModel: uid=RandomForestRegressor_0ed25acb241f, numTrees=500, numFeatures=16]]\n"
     ]
    }
   ],
   "source": [
    "print(rfcvModel.subModels)"
   ]
  },
  {
   "cell_type": "code",
   "execution_count": null,
   "id": "a572a06c",
   "metadata": {},
   "outputs": [
    {
     "data": {
      "text/plain": [
       "125"
      ]
     },
     "execution_count": 77,
     "metadata": {},
     "output_type": "execute_result"
    }
   ],
   "source": [
    "len(rfcvModel.subModels[0])"
   ]
  },
  {
   "cell_type": "code",
   "execution_count": null,
   "id": "93d5f70c",
   "metadata": {},
   "outputs": [
    {
     "name": "stdout",
     "output_type": "stream",
     "text": [
      "5\n"
     ]
    }
   ],
   "source": [
    "print(len(rfcvModel.subModels))"
   ]
  },
  {
   "cell_type": "code",
   "execution_count": null,
   "id": "cb924d3d",
   "metadata": {},
   "outputs": [],
   "source": [
    "predicted_value = rfpredictions[\"prediction\"]\n",
    "true_value = rfpredictions[\"total_amount\"]"
   ]
  },
  {
   "cell_type": "code",
   "execution_count": null,
   "id": "f403b117",
   "metadata": {},
   "outputs": [
    {
     "name": "stdout",
     "output_type": "stream",
     "text": [
      "Column<'prediction'>\n"
     ]
    }
   ],
   "source": [
    "print(predicted_value)"
   ]
  },
  {
   "cell_type": "code",
   "execution_count": null,
   "id": "08c3eac8",
   "metadata": {},
   "outputs": [
    {
     "name": "stdout",
     "output_type": "stream",
     "text": [
      "[6.8, 8.3, 12.3, 22.48, 15.8, 12.3, 11.16, 46.05, 5.8, 30.12, 27.3, 11.05, 13.55, 6.8, 4.8, 7.8, 7.8, 10.8, 8.8, 33.12, 20.54, 14.8, 6.8, 13.8, 8.3, 20.05, 16.3, 15.8, 11.76, 18.36, 11.3, 7.8, 5.76, 39.81, 20.16, 4.81]\n"
     ]
    }
   ],
   "source": [
    "true_value = [val.total_amount for val in rfpredictions.select('total_amount').collect()]\n",
    "print(true_value)"
   ]
  },
  {
   "cell_type": "code",
   "execution_count": null,
   "id": "e61031c6",
   "metadata": {},
   "outputs": [
    {
     "data": {
      "image/png": "[encoded data removed]",
      "text/plain": [
       "<Figure size 720x720 with 1 Axes>"
      ]
     },
     "metadata": {
      "needs_background": "light"
     },
     "output_type": "display_data"
    }
   ],
   "source": [
    "import matplotlib.pyplot as plt\n",
    "predicted_value = [val.prediction for val in rfpredictions.select('prediction').collect()]\n",
    "true_value = [val.total_amount for val in rfpredictions.select('total_amount').collect()]\n",
    "plt.figure(figsize=(10,10))\n",
    "plt.scatter(true_value, predicted_value, c='crimson')\n",
    "plt.title(\"Random Forest Results\")\n",
    "plt.yscale('log')\n",
    "plt.xscale('log')\n",
    "\n",
    "p1 = max(max(predicted_value), max(true_value))\n",
    "p2 = min(min(predicted_value), min(true_value))\n",
    "plt.plot([p1, p2], [p1, p2], 'b-')\n",
    "plt.xlabel('True Values', fontsize=15)\n",
    "plt.ylabel('Predictions', fontsize=15)\n",
    "plt.axis('equal')\n",
    "plt.text(20, 15, 'RMSE = 1.08', fontsize = 22, \n",
    "         bbox = dict(facecolor = 'white', alpha = 0.5))\n",
    "plt.show()"
   ]
  }
 ],
 "metadata": {
  "interpreter": {
   "hash": "63fd5069d213b44bf678585dea6b12cceca9941eaf7f819626cde1f2670de90d"
  },
  "kernelspec": {
   "display_name": "Python 3 (ipykernel)",
   "language": "python",
   "name": "python3"
  },
  "language_info": {
   "codemirror_mode": {
    "name": "ipython",
    "version": 3
   },
   "file_extension": ".py",
   "mimetype": "text/x-python",
   "name": "python",
   "nbconvert_exporter": "python",
   "pygments_lexer": "ipython3",
   "version": "3.9.4"
  }
 },
 "nbformat": 4,
 "nbformat_minor": 5
}
